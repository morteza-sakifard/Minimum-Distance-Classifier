{
  "nbformat": 4,
  "nbformat_minor": 0,
  "metadata": {
    "colab": {
      "name": "Euclidean Distance.ipynb",
      "provenance": [],
      "collapsed_sections": [
        "H5MacQhoGBS8",
        "cbUIvrNR5UL9",
        "ppjBvnJOjs6V",
        "fTqNxeFymzC3",
        "Xmoz7g6RAP9b",
        "hd0pT-xJQAQE",
        "Wml00FswhoNr",
        "K8bV6VY6QAQV",
        "Rq5i5bCWQAQX",
        "i8z6s6ddGGgV",
        "3X0_fkhziOrp",
        "IHIp4mt8Gtnk",
        "lfVXpBZAKAm1",
        "lXtac5R3_i3V",
        "XdFkNgHc_i3Z",
        "20od4qE9_i3b"
      ],
      "mount_file_id": "1HyO-mKpBTPIQQpb01_1SXHVZH_g6WjZS",
      "authorship_tag": "ABX9TyPHQ6bS7lI53J8FmNHUbYa+"
    },
    "kernelspec": {
      "name": "python3",
      "display_name": "Python 3"
    },
    "language_info": {
      "name": "python"
    }
  },
  "cells": [
    {
      "cell_type": "markdown",
      "metadata": {
        "id": "H5MacQhoGBS8"
      },
      "source": [
        "# Minimum Euclidean Distance Classifier\n",
        "The minimum distance classifier is used to classify unknown data to classes which minimize the distance between the data and the class in multi-feature space. The distance is defined as an index of similarity so that the minimum distance is identical to the maximum similarity."
      ]
    },
    {
      "cell_type": "code",
      "metadata": {
        "id": "R1kQDPKXlMvZ"
      },
      "source": [
        "import numpy as np\n",
        "import pandas as pd\n",
        "import matplotlib.pyplot as plt\n",
        "import plotly.express as px"
      ],
      "execution_count": 1,
      "outputs": []
    },
    {
      "cell_type": "markdown",
      "source": [
        "## Train Model\n",
        "The learning of our data consists of the following:   \n",
        "*   We split our dataset into subsets corresponding to each label y.\n",
        "*   For each subset, we estimate the mean of subset."
      ],
      "metadata": {
        "id": "cbUIvrNR5UL9"
      }
    },
    {
      "cell_type": "code",
      "source": [
        "def train_model(dataset):\n",
        "  grouped = dataset.groupby(['Class'])\n",
        "  feature_columns = dataset.columns[dataset.columns != 'Class']\n",
        "  params = dict()\n",
        "  for name, group in grouped:\n",
        "    samples = group[feature_columns]\n",
        "    params[name] = {'mean': samples.mean()}\n",
        "  return params"
      ],
      "metadata": {
        "id": "AtWHIVk-3xGy"
      },
      "execution_count": 2,
      "outputs": []
    },
    {
      "cell_type": "markdown",
      "metadata": {
        "id": "ppjBvnJOjs6V"
      },
      "source": [
        "## Classifier\n",
        "When making a prediction on a new data vector x:\n",
        "*   We calculate the Euclidean distance of the new data with the average of each class.\n",
        "*   Return the label of the class with the shortest distance to the new data .\n"
      ]
    },
    {
      "cell_type": "code",
      "metadata": {
        "id": "NJMjelK1IhOO"
      },
      "source": [
        "def classify(dataset, params):\n",
        "  predicted_labels = np.empty(len(dataset))\n",
        "  for index, row in dataset.iterrows(): \n",
        "    classifieds = list()\n",
        "    for idx, param in params.items():\n",
        "      distance = get_distance(row, param['mean'])\n",
        "      classifieds.append(distance)\n",
        "    min_dis_idx = np.argmin(classifieds)\n",
        "    predicted_label = min_dis_idx + 1\n",
        "    predicted_labels[index] = predicted_label\n",
        "  return predicted_labels"
      ],
      "execution_count": 3,
      "outputs": []
    },
    {
      "cell_type": "markdown",
      "metadata": {
        "id": "fTqNxeFymzC3"
      },
      "source": [
        "## Euclidean Distance\n",
        "The Euclidean distance between two points in Euclidean space is the length of a line segment between the two points.\n",
        "![image.png](data:image/png;base64,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)"
      ]
    },
    {
      "cell_type": "code",
      "metadata": {
        "id": "Fz-VtI1RiwSI"
      },
      "source": [
        "def get_distance(x, mean):\n",
        "  return np.sqrt((x - mean).T @ (x - mean))"
      ],
      "execution_count": 4,
      "outputs": []
    },
    {
      "cell_type": "markdown",
      "metadata": {
        "id": "Xmoz7g6RAP9b"
      },
      "source": [
        "## Confusion Matrix\n",
        "A confusion matrix is a summary of prediction results on a classification problem.\n",
        "\n",
        "The number of correct and incorrect predictions are summarized with count values and broken down by each class. "
      ]
    },
    {
      "cell_type": "code",
      "metadata": {
        "id": "SGJ0Sct1SKO8"
      },
      "source": [
        "def get_confusion_matrix(class_labels, predicted_labels):\n",
        "  labels = class_labels.unique()\n",
        "  confusion_matrix = dict()\n",
        "  for class_label in labels:\n",
        "    p_labels = predicted_labels[class_labels == class_label]\n",
        "    confusion_matrix[class_label] = list()\n",
        "    for predicted_label in labels:\n",
        "      confusion_matrix[class_label].append((p_labels == predicted_label).sum())\n",
        "  return pd.DataFrame(confusion_matrix, index=range(1, len(labels) + 1))"
      ],
      "execution_count": 5,
      "outputs": []
    },
    {
      "cell_type": "code",
      "metadata": {
        "id": "wQR7gQnjJQR3"
      },
      "source": [
        "#return accuracy of classifier [Total, Class 1, Class 2, ...]\n",
        "def evaluate_model(confusion_matrix):\n",
        "  accuracy = [np.diag(confusion_matrix).sum() / confusion_matrix.sum().sum()]\n",
        "  for label in range(1, confusion_matrix.shape[0] + 1):\n",
        "    accuracy.append(confusion_matrix[label][label] / confusion_matrix[label].sum())\n",
        "  return accuracy"
      ],
      "execution_count": 6,
      "outputs": []
    },
    {
      "cell_type": "markdown",
      "metadata": {
        "id": "hd0pT-xJQAQE"
      },
      "source": [
        "# Sample Dataset \n",
        "2 classes with 2 features that are normally distributed "
      ]
    },
    {
      "cell_type": "code",
      "metadata": {
        "colab": {
          "base_uri": "https://localhost:8080/",
          "height": 206
        },
        "outputId": "4a374f41-b0db-4cd6-86a8-364173a80492",
        "id": "0rRsbD1oQAQG"
      },
      "source": [
        "n_data = 500\n",
        "# First class\n",
        "mean = [0, 0]\n",
        "cov = [[1, 0.5], [0.5, 2]]\n",
        "first_class = np.random.multivariate_normal(mean, cov, n_data)\n",
        "first_class = np.c_[first_class, np.ones(first_class.shape[0])]\n",
        "# Second class\n",
        "mean = [3, 3]\n",
        "cov = [[2, -1], [-1, 1]]\n",
        "second_class = np.random.multivariate_normal(mean, cov, n_data)\n",
        "second_class = np.c_[second_class, np.ones(second_class.shape[0]) * 2]\n",
        "# Create dataset\n",
        "dataset = pd.DataFrame(np.vstack((first_class, second_class)))\n",
        "dataset.columns = ['Feature 1', 'Feature 2', 'Class']\n",
        "dataset.head()"
      ],
      "execution_count": 7,
      "outputs": [
        {
          "output_type": "execute_result",
          "data": {
            "text/html": [
              "\n",
              "  <div id=\"df-fde2a02c-1eed-45cb-ac32-1f3c534f616b\">\n",
              "    <div class=\"colab-df-container\">\n",
              "      <div>\n",
              "<style scoped>\n",
              "    .dataframe tbody tr th:only-of-type {\n",
              "        vertical-align: middle;\n",
              "    }\n",
              "\n",
              "    .dataframe tbody tr th {\n",
              "        vertical-align: top;\n",
              "    }\n",
              "\n",
              "    .dataframe thead th {\n",
              "        text-align: right;\n",
              "    }\n",
              "</style>\n",
              "<table border=\"1\" class=\"dataframe\">\n",
              "  <thead>\n",
              "    <tr style=\"text-align: right;\">\n",
              "      <th></th>\n",
              "      <th>Feature 1</th>\n",
              "      <th>Feature 2</th>\n",
              "      <th>Class</th>\n",
              "    </tr>\n",
              "  </thead>\n",
              "  <tbody>\n",
              "    <tr>\n",
              "      <th>0</th>\n",
              "      <td>-1.462574</td>\n",
              "      <td>0.954283</td>\n",
              "      <td>1.0</td>\n",
              "    </tr>\n",
              "    <tr>\n",
              "      <th>1</th>\n",
              "      <td>1.479360</td>\n",
              "      <td>1.377989</td>\n",
              "      <td>1.0</td>\n",
              "    </tr>\n",
              "    <tr>\n",
              "      <th>2</th>\n",
              "      <td>0.749868</td>\n",
              "      <td>-0.919719</td>\n",
              "      <td>1.0</td>\n",
              "    </tr>\n",
              "    <tr>\n",
              "      <th>3</th>\n",
              "      <td>0.129192</td>\n",
              "      <td>0.274453</td>\n",
              "      <td>1.0</td>\n",
              "    </tr>\n",
              "    <tr>\n",
              "      <th>4</th>\n",
              "      <td>0.462995</td>\n",
              "      <td>-0.940321</td>\n",
              "      <td>1.0</td>\n",
              "    </tr>\n",
              "  </tbody>\n",
              "</table>\n",
              "</div>\n",
              "      <button class=\"colab-df-convert\" onclick=\"convertToInteractive('df-fde2a02c-1eed-45cb-ac32-1f3c534f616b')\"\n",
              "              title=\"Convert this dataframe to an interactive table.\"\n",
              "              style=\"display:none;\">\n",
              "        \n",
              "  <svg xmlns=\"http://www.w3.org/2000/svg\" height=\"24px\"viewBox=\"0 0 24 24\"\n",
              "       width=\"24px\">\n",
              "    <path d=\"M0 0h24v24H0V0z\" fill=\"none\"/>\n",
              "    <path d=\"M18.56 5.44l.94 2.06.94-2.06 2.06-.94-2.06-.94-.94-2.06-.94 2.06-2.06.94zm-11 1L8.5 8.5l.94-2.06 2.06-.94-2.06-.94L8.5 2.5l-.94 2.06-2.06.94zm10 10l.94 2.06.94-2.06 2.06-.94-2.06-.94-.94-2.06-.94 2.06-2.06.94z\"/><path d=\"M17.41 7.96l-1.37-1.37c-.4-.4-.92-.59-1.43-.59-.52 0-1.04.2-1.43.59L10.3 9.45l-7.72 7.72c-.78.78-.78 2.05 0 2.83L4 21.41c.39.39.9.59 1.41.59.51 0 1.02-.2 1.41-.59l7.78-7.78 2.81-2.81c.8-.78.8-2.07 0-2.86zM5.41 20L4 18.59l7.72-7.72 1.47 1.35L5.41 20z\"/>\n",
              "  </svg>\n",
              "      </button>\n",
              "      \n",
              "  <style>\n",
              "    .colab-df-container {\n",
              "      display:flex;\n",
              "      flex-wrap:wrap;\n",
              "      gap: 12px;\n",
              "    }\n",
              "\n",
              "    .colab-df-convert {\n",
              "      background-color: #E8F0FE;\n",
              "      border: none;\n",
              "      border-radius: 50%;\n",
              "      cursor: pointer;\n",
              "      display: none;\n",
              "      fill: #1967D2;\n",
              "      height: 32px;\n",
              "      padding: 0 0 0 0;\n",
              "      width: 32px;\n",
              "    }\n",
              "\n",
              "    .colab-df-convert:hover {\n",
              "      background-color: #E2EBFA;\n",
              "      box-shadow: 0px 1px 2px rgba(60, 64, 67, 0.3), 0px 1px 3px 1px rgba(60, 64, 67, 0.15);\n",
              "      fill: #174EA6;\n",
              "    }\n",
              "\n",
              "    [theme=dark] .colab-df-convert {\n",
              "      background-color: #3B4455;\n",
              "      fill: #D2E3FC;\n",
              "    }\n",
              "\n",
              "    [theme=dark] .colab-df-convert:hover {\n",
              "      background-color: #434B5C;\n",
              "      box-shadow: 0px 1px 3px 1px rgba(0, 0, 0, 0.15);\n",
              "      filter: drop-shadow(0px 1px 2px rgba(0, 0, 0, 0.3));\n",
              "      fill: #FFFFFF;\n",
              "    }\n",
              "  </style>\n",
              "\n",
              "      <script>\n",
              "        const buttonEl =\n",
              "          document.querySelector('#df-fde2a02c-1eed-45cb-ac32-1f3c534f616b button.colab-df-convert');\n",
              "        buttonEl.style.display =\n",
              "          google.colab.kernel.accessAllowed ? 'block' : 'none';\n",
              "\n",
              "        async function convertToInteractive(key) {\n",
              "          const element = document.querySelector('#df-fde2a02c-1eed-45cb-ac32-1f3c534f616b');\n",
              "          const dataTable =\n",
              "            await google.colab.kernel.invokeFunction('convertToInteractive',\n",
              "                                                     [key], {});\n",
              "          if (!dataTable) return;\n",
              "\n",
              "          const docLinkHtml = 'Like what you see? Visit the ' +\n",
              "            '<a target=\"_blank\" href=https://colab.research.google.com/notebooks/data_table.ipynb>data table notebook</a>'\n",
              "            + ' to learn more about interactive tables.';\n",
              "          element.innerHTML = '';\n",
              "          dataTable['output_type'] = 'display_data';\n",
              "          await google.colab.output.renderOutput(dataTable, element);\n",
              "          const docLink = document.createElement('div');\n",
              "          docLink.innerHTML = docLinkHtml;\n",
              "          element.appendChild(docLink);\n",
              "        }\n",
              "      </script>\n",
              "    </div>\n",
              "  </div>\n",
              "  "
            ],
            "text/plain": [
              "   Feature 1  Feature 2  Class\n",
              "0  -1.462574   0.954283    1.0\n",
              "1   1.479360   1.377989    1.0\n",
              "2   0.749868  -0.919719    1.0\n",
              "3   0.129192   0.274453    1.0\n",
              "4   0.462995  -0.940321    1.0"
            ]
          },
          "metadata": {},
          "execution_count": 7
        }
      ]
    },
    {
      "cell_type": "markdown",
      "source": [
        "## Plot Dataset"
      ],
      "metadata": {
        "id": "Wml00FswhoNr"
      }
    },
    {
      "cell_type": "code",
      "source": [
        "grouped = dataset.groupby(['Class'])\n",
        "for name, group in grouped:\n",
        "  plt.plot(group['Feature 1'], group['Feature 2'], '.')\n",
        "\n",
        "plt.axis('equal');"
      ],
      "metadata": {
        "colab": {
          "base_uri": "https://localhost:8080/",
          "height": 54
        },
        "id": "QcKcyqQPyisi",
        "outputId": "ac7afcf2-bd4c-4504-dee3-1456a71aee51"
      },
      "execution_count": 8,
      "outputs": [
        {
          "output_type": "display_data",
          "data": {
            "image/png": "[encoded data removed]",
            "text/plain": [
              "<Figure size 432x288 with 1 Axes>"
            ]
          },
          "metadata": {
            "needs_background": "light"
          }
        }
      ]
    },
    {
      "cell_type": "markdown",
      "metadata": {
        "id": "K8bV6VY6QAQV"
      },
      "source": [
        "## Train & Classification\n",
        "All data is used to train model"
      ]
    },
    {
      "cell_type": "code",
      "source": [
        "params = train_model(dataset)"
      ],
      "metadata": {
        "id": "i40dOGGr6ksR"
      },
      "execution_count": 9,
      "outputs": []
    },
    {
      "cell_type": "code",
      "metadata": {
        "id": "li9c6WOLQAQW"
      },
      "source": [
        "feature_columns = dataset.columns[dataset.columns != 'Class']\n",
        "samples = dataset.loc[:, feature_columns]\n",
        "predicted_labels = classify(samples, params)"
      ],
      "execution_count": 10,
      "outputs": []
    },
    {
      "cell_type": "markdown",
      "metadata": {
        "id": "Rq5i5bCWQAQX"
      },
      "source": [
        "## Confustion Matrix"
      ]
    },
    {
      "cell_type": "code",
      "metadata": {
        "id": "Z3Kl4W7AQAQY",
        "colab": {
          "base_uri": "https://localhost:8080/",
          "height": 131
        },
        "outputId": "3ba0d59b-61da-4c92-ea4d-bb235772b5e0"
      },
      "source": [
        "confusion_matrix = get_confusion_matrix(dataset['Class'], predicted_labels)\n",
        "print('Rows is predicted labels and Columns is true labels')\n",
        "confusion_matrix"
      ],
      "execution_count": 11,
      "outputs": [
        {
          "output_type": "stream",
          "name": "stdout",
          "text": [
            "Rows is predicted labels and Columns is true labels\n"
          ]
        },
        {
          "output_type": "execute_result",
          "data": {
            "text/html": [
              "\n",
              "  <div id=\"df-563302e4-b6fb-41d8-9006-da7a1ce0f974\">\n",
              "    <div class=\"colab-df-container\">\n",
              "      <div>\n",
              "<style scoped>\n",
              "    .dataframe tbody tr th:only-of-type {\n",
              "        vertical-align: middle;\n",
              "    }\n",
              "\n",
              "    .dataframe tbody tr th {\n",
              "        vertical-align: top;\n",
              "    }\n",
              "\n",
              "    .dataframe thead th {\n",
              "        text-align: right;\n",
              "    }\n",
              "</style>\n",
              "<table border=\"1\" class=\"dataframe\">\n",
              "  <thead>\n",
              "    <tr style=\"text-align: right;\">\n",
              "      <th></th>\n",
              "      <th>1.0</th>\n",
              "      <th>2.0</th>\n",
              "    </tr>\n",
              "  </thead>\n",
              "  <tbody>\n",
              "    <tr>\n",
              "      <th>1</th>\n",
              "      <td>465</td>\n",
              "      <td>0</td>\n",
              "    </tr>\n",
              "    <tr>\n",
              "      <th>2</th>\n",
              "      <td>35</td>\n",
              "      <td>500</td>\n",
              "    </tr>\n",
              "  </tbody>\n",
              "</table>\n",
              "</div>\n",
              "      <button class=\"colab-df-convert\" onclick=\"convertToInteractive('df-563302e4-b6fb-41d8-9006-da7a1ce0f974')\"\n",
              "              title=\"Convert this dataframe to an interactive table.\"\n",
              "              style=\"display:none;\">\n",
              "        \n",
              "  <svg xmlns=\"http://www.w3.org/2000/svg\" height=\"24px\"viewBox=\"0 0 24 24\"\n",
              "       width=\"24px\">\n",
              "    <path d=\"M0 0h24v24H0V0z\" fill=\"none\"/>\n",
              "    <path d=\"M18.56 5.44l.94 2.06.94-2.06 2.06-.94-2.06-.94-.94-2.06-.94 2.06-2.06.94zm-11 1L8.5 8.5l.94-2.06 2.06-.94-2.06-.94L8.5 2.5l-.94 2.06-2.06.94zm10 10l.94 2.06.94-2.06 2.06-.94-2.06-.94-.94-2.06-.94 2.06-2.06.94z\"/><path d=\"M17.41 7.96l-1.37-1.37c-.4-.4-.92-.59-1.43-.59-.52 0-1.04.2-1.43.59L10.3 9.45l-7.72 7.72c-.78.78-.78 2.05 0 2.83L4 21.41c.39.39.9.59 1.41.59.51 0 1.02-.2 1.41-.59l7.78-7.78 2.81-2.81c.8-.78.8-2.07 0-2.86zM5.41 20L4 18.59l7.72-7.72 1.47 1.35L5.41 20z\"/>\n",
              "  </svg>\n",
              "      </button>\n",
              "      \n",
              "  <style>\n",
              "    .colab-df-container {\n",
              "      display:flex;\n",
              "      flex-wrap:wrap;\n",
              "      gap: 12px;\n",
              "    }\n",
              "\n",
              "    .colab-df-convert {\n",
              "      background-color: #E8F0FE;\n",
              "      border: none;\n",
              "      border-radius: 50%;\n",
              "      cursor: pointer;\n",
              "      display: none;\n",
              "      fill: #1967D2;\n",
              "      height: 32px;\n",
              "      padding: 0 0 0 0;\n",
              "      width: 32px;\n",
              "    }\n",
              "\n",
              "    .colab-df-convert:hover {\n",
              "      background-color: #E2EBFA;\n",
              "      box-shadow: 0px 1px 2px rgba(60, 64, 67, 0.3), 0px 1px 3px 1px rgba(60, 64, 67, 0.15);\n",
              "      fill: #174EA6;\n",
              "    }\n",
              "\n",
              "    [theme=dark] .colab-df-convert {\n",
              "      background-color: #3B4455;\n",
              "      fill: #D2E3FC;\n",
              "    }\n",
              "\n",
              "    [theme=dark] .colab-df-convert:hover {\n",
              "      background-color: #434B5C;\n",
              "      box-shadow: 0px 1px 3px 1px rgba(0, 0, 0, 0.15);\n",
              "      filter: drop-shadow(0px 1px 2px rgba(0, 0, 0, 0.3));\n",
              "      fill: #FFFFFF;\n",
              "    }\n",
              "  </style>\n",
              "\n",
              "      <script>\n",
              "        const buttonEl =\n",
              "          document.querySelector('#df-563302e4-b6fb-41d8-9006-da7a1ce0f974 button.colab-df-convert');\n",
              "        buttonEl.style.display =\n",
              "          google.colab.kernel.accessAllowed ? 'block' : 'none';\n",
              "\n",
              "        async function convertToInteractive(key) {\n",
              "          const element = document.querySelector('#df-563302e4-b6fb-41d8-9006-da7a1ce0f974');\n",
              "          const dataTable =\n",
              "            await google.colab.kernel.invokeFunction('convertToInteractive',\n",
              "                                                     [key], {});\n",
              "          if (!dataTable) return;\n",
              "\n",
              "          const docLinkHtml = 'Like what you see? Visit the ' +\n",
              "            '<a target=\"_blank\" href=https://colab.research.google.com/notebooks/data_table.ipynb>data table notebook</a>'\n",
              "            + ' to learn more about interactive tables.';\n",
              "          element.innerHTML = '';\n",
              "          dataTable['output_type'] = 'display_data';\n",
              "          await google.colab.output.renderOutput(dataTable, element);\n",
              "          const docLink = document.createElement('div');\n",
              "          docLink.innerHTML = docLinkHtml;\n",
              "          element.appendChild(docLink);\n",
              "        }\n",
              "      </script>\n",
              "    </div>\n",
              "  </div>\n",
              "  "
            ],
            "text/plain": [
              "   1.0  2.0\n",
              "1  465    0\n",
              "2   35  500"
            ]
          },
          "metadata": {},
          "execution_count": 11
        }
      ]
    },
    {
      "cell_type": "code",
      "metadata": {
        "id": "EL66_ruQQAQb",
        "colab": {
          "base_uri": "https://localhost:8080/"
        },
        "outputId": "51b975ca-a81e-4ae7-a72f-26915a9d2623"
      },
      "source": [
        "accuracies = evaluate_model(confusion_matrix)\n",
        "print(f'Total Accuracy {accuracies[0]:.0%}')\n",
        "for idx, accuracy in enumerate(accuracies[1:]):\n",
        "  print(f'Accuracy Class {idx+1} {accuracy:.0%}')"
      ],
      "execution_count": 12,
      "outputs": [
        {
          "output_type": "stream",
          "name": "stdout",
          "text": [
            "Total Accuracy 96%\n",
            "Accuracy Class 1 93%\n",
            "Accuracy Class 2 100%\n"
          ]
        }
      ]
    },
    {
      "cell_type": "markdown",
      "metadata": {
        "id": "i8z6s6ddGGgV"
      },
      "source": [
        "# Haberman's Survival Data\n",
        "\n",
        "Relevant Information:\n",
        "   The dataset contains cases from a study that was conducted between\n",
        "   1958 and 1970 at the University of Chicago's Billings Hospital on\n",
        "   the survival of patients who had undergone surgery for breast\n",
        "   cancer.\n",
        "\n",
        "Number of Instances: 306\n",
        "\n",
        "Number of Attributes: 4 (including the class attribute)\n",
        "\n",
        "Attribute Information:\n",
        "   1. Age of patient at time of operation (numerical)\n",
        "   2. Patient's year of operation (year - 1900, numerical)\n",
        "   3. Number of positive axillary nodes detected (numerical)\n",
        "   4. Survival status (class attribute)\n",
        "         1 = the patient survived 5 years or longer\n",
        "         2 = the patient died within 5 year\n",
        "\n",
        "Missing Attribute Values: None"
      ]
    },
    {
      "cell_type": "code",
      "metadata": {
        "id": "USN-kkgypXyE",
        "colab": {
          "base_uri": "https://localhost:8080/",
          "height": 287
        },
        "outputId": "5b5d2758-f272-4008-cb2a-8d9feede64da"
      },
      "source": [
        "dataset = pd.read_csv('/content/drive/MyDrive/Colab Notebooks/Pattern Recognition/Dataset/Haberman/haberman.data', sep=',', header=None)\n",
        "dataset.columns = ['Feature 1', 'Feature 2', 'Feature 3', 'Class']\n",
        "dataset.head()"
      ],
      "execution_count": 13,
      "outputs": [
        {
          "output_type": "execute_result",
          "data": {
            "text/html": [
              "\n",
              "  <div id=\"df-911c5c82-937e-47a8-b6e6-1ec5a61bd078\">\n",
              "    <div class=\"colab-df-container\">\n",
              "      <div>\n",
              "<style scoped>\n",
              "    .dataframe tbody tr th:only-of-type {\n",
              "        vertical-align: middle;\n",
              "    }\n",
              "\n",
              "    .dataframe tbody tr th {\n",
              "        vertical-align: top;\n",
              "    }\n",
              "\n",
              "    .dataframe thead th {\n",
              "        text-align: right;\n",
              "    }\n",
              "</style>\n",
              "<table border=\"1\" class=\"dataframe\">\n",
              "  <thead>\n",
              "    <tr style=\"text-align: right;\">\n",
              "      <th></th>\n",
              "      <th>Feature 1</th>\n",
              "      <th>Feature 2</th>\n",
              "      <th>Feature 3</th>\n",
              "      <th>Class</th>\n",
              "    </tr>\n",
              "  </thead>\n",
              "  <tbody>\n",
              "    <tr>\n",
              "      <th>0</th>\n",
              "      <td>30</td>\n",
              "      <td>64</td>\n",
              "      <td>1</td>\n",
              "      <td>1</td>\n",
              "    </tr>\n",
              "    <tr>\n",
              "      <th>1</th>\n",
              "      <td>30</td>\n",
              "      <td>62</td>\n",
              "      <td>3</td>\n",
              "      <td>1</td>\n",
              "    </tr>\n",
              "    <tr>\n",
              "      <th>2</th>\n",
              "      <td>30</td>\n",
              "      <td>65</td>\n",
              "      <td>0</td>\n",
              "      <td>1</td>\n",
              "    </tr>\n",
              "    <tr>\n",
              "      <th>3</th>\n",
              "      <td>31</td>\n",
              "      <td>59</td>\n",
              "      <td>2</td>\n",
              "      <td>1</td>\n",
              "    </tr>\n",
              "    <tr>\n",
              "      <th>4</th>\n",
              "      <td>31</td>\n",
              "      <td>65</td>\n",
              "      <td>4</td>\n",
              "      <td>1</td>\n",
              "    </tr>\n",
              "  </tbody>\n",
              "</table>\n",
              "</div>\n",
              "      <button class=\"colab-df-convert\" onclick=\"convertToInteractive('df-911c5c82-937e-47a8-b6e6-1ec5a61bd078')\"\n",
              "              title=\"Convert this dataframe to an interactive table.\"\n",
              "              style=\"display:none;\">\n",
              "        \n",
              "  <svg xmlns=\"http://www.w3.org/2000/svg\" height=\"24px\"viewBox=\"0 0 24 24\"\n",
              "       width=\"24px\">\n",
              "    <path d=\"M0 0h24v24H0V0z\" fill=\"none\"/>\n",
              "    <path d=\"M18.56 5.44l.94 2.06.94-2.06 2.06-.94-2.06-.94-.94-2.06-.94 2.06-2.06.94zm-11 1L8.5 8.5l.94-2.06 2.06-.94-2.06-.94L8.5 2.5l-.94 2.06-2.06.94zm10 10l.94 2.06.94-2.06 2.06-.94-2.06-.94-.94-2.06-.94 2.06-2.06.94z\"/><path d=\"M17.41 7.96l-1.37-1.37c-.4-.4-.92-.59-1.43-.59-.52 0-1.04.2-1.43.59L10.3 9.45l-7.72 7.72c-.78.78-.78 2.05 0 2.83L4 21.41c.39.39.9.59 1.41.59.51 0 1.02-.2 1.41-.59l7.78-7.78 2.81-2.81c.8-.78.8-2.07 0-2.86zM5.41 20L4 18.59l7.72-7.72 1.47 1.35L5.41 20z\"/>\n",
              "  </svg>\n",
              "      </button>\n",
              "      \n",
              "  <style>\n",
              "    .colab-df-container {\n",
              "      display:flex;\n",
              "      flex-wrap:wrap;\n",
              "      gap: 12px;\n",
              "    }\n",
              "\n",
              "    .colab-df-convert {\n",
              "      background-color: #E8F0FE;\n",
              "      border: none;\n",
              "      border-radius: 50%;\n",
              "      cursor: pointer;\n",
              "      display: none;\n",
              "      fill: #1967D2;\n",
              "      height: 32px;\n",
              "      padding: 0 0 0 0;\n",
              "      width: 32px;\n",
              "    }\n",
              "\n",
              "    .colab-df-convert:hover {\n",
              "      background-color: #E2EBFA;\n",
              "      box-shadow: 0px 1px 2px rgba(60, 64, 67, 0.3), 0px 1px 3px 1px rgba(60, 64, 67, 0.15);\n",
              "      fill: #174EA6;\n",
              "    }\n",
              "\n",
              "    [theme=dark] .colab-df-convert {\n",
              "      background-color: #3B4455;\n",
              "      fill: #D2E3FC;\n",
              "    }\n",
              "\n",
              "    [theme=dark] .colab-df-convert:hover {\n",
              "      background-color: #434B5C;\n",
              "      box-shadow: 0px 1px 3px 1px rgba(0, 0, 0, 0.15);\n",
              "      filter: drop-shadow(0px 1px 2px rgba(0, 0, 0, 0.3));\n",
              "      fill: #FFFFFF;\n",
              "    }\n",
              "  </style>\n",
              "\n",
              "      <script>\n",
              "        const buttonEl =\n",
              "          document.querySelector('#df-911c5c82-937e-47a8-b6e6-1ec5a61bd078 button.colab-df-convert');\n",
              "        buttonEl.style.display =\n",
              "          google.colab.kernel.accessAllowed ? 'block' : 'none';\n",
              "\n",
              "        async function convertToInteractive(key) {\n",
              "          const element = document.querySelector('#df-911c5c82-937e-47a8-b6e6-1ec5a61bd078');\n",
              "          const dataTable =\n",
              "            await google.colab.kernel.invokeFunction('convertToInteractive',\n",
              "                                                     [key], {});\n",
              "          if (!dataTable) return;\n",
              "\n",
              "          const docLinkHtml = 'Like what you see? Visit the ' +\n",
              "            '<a target=\"_blank\" href=https://colab.research.google.com/notebooks/data_table.ipynb>data table notebook</a>'\n",
              "            + ' to learn more about interactive tables.';\n",
              "          element.innerHTML = '';\n",
              "          dataTable['output_type'] = 'display_data';\n",
              "          await google.colab.output.renderOutput(dataTable, element);\n",
              "          const docLink = document.createElement('div');\n",
              "          docLink.innerHTML = docLinkHtml;\n",
              "          element.appendChild(docLink);\n",
              "        }\n",
              "      </script>\n",
              "    </div>\n",
              "  </div>\n",
              "  "
            ],
            "text/plain": [
              "   Feature 1  Feature 2  Feature 3  Class\n",
              "0         30         64          1      1\n",
              "1         30         62          3      1\n",
              "2         30         65          0      1\n",
              "3         31         59          2      1\n",
              "4         31         65          4      1"
            ]
          },
          "metadata": {},
          "execution_count": 13
        }
      ]
    },
    {
      "cell_type": "markdown",
      "source": [
        "## Plot Dataset"
      ],
      "metadata": {
        "id": "3X0_fkhziOrp"
      }
    },
    {
      "cell_type": "code",
      "source": [
        "grouped = dataset.groupby('Class')"
      ],
      "metadata": {
        "id": "ExYWwZa9mmJx"
      },
      "execution_count": 14,
      "outputs": []
    },
    {
      "cell_type": "code",
      "source": [
        "fig = plt.figure(figsize=(24, 6))\n",
        "plt.suptitle(\"Haberman's Survival\", fontsize=14)\n",
        "\n",
        "ax = fig.add_subplot(131)\n",
        "for name, group in grouped:\n",
        "  ax.scatter(group['Feature 1'], group['Feature 2']);\n",
        "plt.xlabel('Feature 1')\n",
        "plt.ylabel('Feature 2');\n",
        "\n",
        "ax = fig.add_subplot(132)\n",
        "for name, group in grouped:\n",
        "  ax.scatter(group['Feature 1'], group['Feature 3']);\n",
        "plt.xlabel('Feature 1')\n",
        "plt.ylabel('Feature 3');\n",
        "\n",
        "ax = fig.add_subplot(133)\n",
        "for name, group in grouped:\n",
        "  ax.scatter(group['Feature 2'], group['Feature 3']);\n",
        "plt.xlabel('Feature 2')\n",
        "plt.ylabel('Feature 3');"
      ],
      "metadata": {
        "id": "r4TVFxdEnQB6",
        "colab": {
          "base_uri": "https://localhost:8080/",
          "height": 54
        },
        "outputId": "b32d1676-c7bc-4107-d159-53de3d654faa"
      },
      "execution_count": 15,
      "outputs": [
        {
          "output_type": "display_data",
          "data": {
            "image/png": "[encoded data removed]",
            "text/plain": [
              "<Figure size 1728x432 with 3 Axes>"
            ]
          },
          "metadata": {
            "needs_background": "light"
          }
        }
      ]
    },
    {
      "cell_type": "code",
      "source": [
        "fig = px.scatter_3d(x=dataset['Feature 1'], y=dataset['Feature 2'], z=dataset['Feature 3'], color=dataset['Class'].astype(str),\n",
        "                    labels={'x': \"Feature 1\", 'y': \"Feature 2\", 'z': \"Feature 3\"})\n",
        "fig.update_traces(marker=dict(size=4, line=dict(width=0.5, color='DarkSlateGrey')),\n",
        "                  selector=dict(mode='markers'))\n",
        "fig.show()"
      ],
      "metadata": {
        "id": "YDojmTdOg1zy",
        "colab": {
          "base_uri": "https://localhost:8080/",
          "height": 562
        },
        "outputId": "12fe2e97-c2ce-406d-9710-827001e7b994"
      },
      "execution_count": 16,
      "outputs": [
        {
          "output_type": "display_data",
          "data": {
            "text/html": [
              "<html>\n",
              "<head><meta charset=\"utf-8\" /></head>\n",
              "<body>\n",
              "    <div>            <script src=\"https://cdnjs.cloudflare.com/ajax/libs/mathjax/2.7.5/MathJax.js?config=TeX-AMS-MML_SVG\"></script><script type=\"text/javascript\">if (window.MathJax) {MathJax.Hub.Config({SVG: {font: \"STIX-Web\"}});}</script>                <script type=\"text/javascript\">window.PlotlyConfig = {MathJaxConfig: 'local'};</script>\n",
              "        <script src=\"https://cdn.plot.ly/plotly-2.8.3.min.js\"></script>                <div id=\"b3444935-ca53-4fe2-a362-7e590636a343\" class=\"plotly-graph-div\" style=\"height:525px; width:100%;\"></div>            <script type=\"text/javascript\">                                    window.PLOTLYENV=window.PLOTLYENV || {};                                    if (document.getElementById(\"b3444935-ca53-4fe2-a362-7e590636a343\")) {                    Plotly.newPlot(                        \"b3444935-ca53-4fe2-a362-7e590636a343\",                        [{\"hovertemplate\":\"color=1<br>Feature 1=%{x}<br>Feature 2=%{y}<br>Feature 3=%{z}<extra></extra>\",\"legendgroup\":\"1\",\"marker\":{\"color\":\"#636efa\",\"symbol\":\"circle\",\"line\":{\"color\":\"DarkSlateGrey\",\"width\":0.5},\"size\":4},\"mode\":\"markers\",\"name\":\"1\",\"scene\":\"scene\",\"showlegend\":true,\"x\":[30,30,30,31,31,33,33,34,34,34,34,34,35,35,36,36,37,37,37,37,37,37,38,38,38,38,38,38,38,38,38,39,39,39,39,39,40,40,40,41,41,41,41,41,41,41,42,42,42,42,42,42,42,43,43,43,43,43,43,43,44,44,44,44,45,45,45,45,45,45,46,46,46,47,47,47,47,47,47,47,47,48,48,48,48,49,49,49,49,49,49,49,49,50,50,50,50,50,50,50,50,50,50,51,51,51,51,52,52,52,52,52,52,52,52,52,52,53,53,53,53,53,54,54,54,54,54,54,54,54,54,55,55,55,55,55,55,55,55,56,56,56,56,56,57,57,57,57,57,57,57,57,58,58,58,58,58,58,58,59,59,59,59,59,59,59,60,60,60,60,61,61,61,61,61,61,62,62,62,62,63,63,63,63,63,63,63,64,64,64,64,64,65,65,65,65,65,65,66,66,66,67,67,67,67,68,68,69,69,69,70,70,70,70,70,71,72,72,72,73,73,74,75,76,77],\"y\":[64,62,65,59,65,58,60,58,60,61,67,60,64,63,60,69,60,63,58,59,60,63,59,60,60,62,64,66,66,60,67,63,67,58,59,63,58,58,65,58,59,59,64,69,65,65,58,60,59,61,62,65,63,63,64,64,60,63,65,66,61,63,61,67,60,67,59,64,68,67,62,58,63,61,63,66,67,58,60,68,66,61,62,64,66,61,62,66,60,62,63,61,67,59,61,61,63,58,59,61,64,65,66,64,59,65,66,61,63,69,60,60,62,62,64,65,68,58,60,60,61,63,59,60,66,67,62,69,63,58,62,58,58,58,66,66,69,69,67,60,66,66,67,60,64,69,61,62,63,64,64,67,59,60,61,67,58,58,61,60,63,64,64,64,64,67,61,67,61,64,59,59,64,65,68,59,62,66,66,58,61,62,63,63,66,61,61,58,65,66,61,68,58,64,67,59,64,67,58,58,68,66,66,61,65,67,68,60,65,66,66,67,68,59,63,68,58,64,67,62,68,63,62,67,65],\"z\":[1,3,0,2,4,10,0,30,1,10,7,0,13,0,1,0,0,0,0,6,15,0,2,0,0,3,1,0,11,1,5,0,0,0,2,4,2,0,0,0,8,0,0,8,0,0,0,1,2,4,20,0,1,14,2,3,0,2,0,4,0,1,0,16,0,0,14,0,0,1,0,3,0,0,6,0,0,3,4,4,12,8,2,0,0,1,0,0,1,1,3,0,1,0,6,0,1,1,2,0,0,4,1,7,1,0,1,0,4,0,4,5,0,1,0,0,0,1,1,2,1,0,7,3,0,46,0,7,19,1,0,1,0,1,18,0,3,22,1,0,2,1,0,0,9,0,0,0,0,0,0,0,0,3,1,0,0,3,2,0,0,1,4,0,7,3,1,2,25,0,0,0,0,8,0,0,6,0,0,0,0,0,0,0,0,9,28,0,22,0,0,0,0,0,0,2,0,1,0,1,0,0,0,0,0,0,0,0,0,0,14,0,0,8,0,2,0,0,3,0,0,0,1,0,3],\"type\":\"scatter3d\"},{\"hovertemplate\":\"color=2<br>Feature 1=%{x}<br>Feature 2=%{y}<br>Feature 3=%{z}<extra></extra>\",\"legendgroup\":\"2\",\"marker\":{\"color\":\"#EF553B\",\"symbol\":\"circle\",\"line\":{\"color\":\"DarkSlateGrey\",\"width\":0.5},\"size\":4},\"mode\":\"markers\",\"name\":\"2\",\"scene\":\"scene\",\"showlegend\":true,\"x\":[34,34,38,39,41,41,41,42,42,43,43,43,43,44,44,44,45,45,45,46,46,46,46,47,47,47,48,48,48,49,49,50,50,51,51,52,52,52,52,53,53,53,53,53,53,54,54,54,54,55,55,56,56,57,57,57,59,60,60,61,61,61,62,62,62,63,65,65,65,65,66,66,67,67,69,70,70,72,74,78,83],\"y\":[59,66,69,66,60,64,67,69,59,58,59,64,64,64,58,63,65,66,67,58,69,62,65,63,62,65,58,58,67,63,64,63,64,59,59,69,59,62,66,58,65,59,60,63,65,60,65,65,68,63,68,65,66,61,62,64,62,59,65,62,65,68,59,58,65,60,58,61,62,66,58,61,64,63,67,58,58,63,65,65,58],\"z\":[0,9,21,0,23,0,0,1,0,52,2,0,0,6,9,19,6,0,1,2,3,5,20,23,0,0,11,11,7,0,10,13,0,13,3,3,2,3,4,4,1,3,9,24,12,11,23,5,7,6,15,9,3,5,14,1,35,17,0,5,0,1,13,0,19,1,0,2,22,15,0,13,8,1,8,0,4,0,3,1,2],\"type\":\"scatter3d\"}],                        {\"template\":{\"data\":{\"bar\":[{\"error_x\":{\"color\":\"#2a3f5f\"},\"error_y\":{\"color\":\"#2a3f5f\"},\"marker\":{\"line\":{\"color\":\"#E5ECF6\",\"width\":0.5},\"pattern\":{\"fillmode\":\"overlay\",\"size\":10,\"solidity\":0.2}},\"type\":\"bar\"}],\"barpolar\":[{\"marker\":{\"line\":{\"color\":\"#E5ECF6\",\"width\":0.5},\"pattern\":{\"fillmode\":\"overlay\",\"size\":10,\"solidity\":0.2}},\"type\":\"barpolar\"}],\"carpet\":[{\"aaxis\":{\"endlinecolor\":\"#2a3f5f\",\"gridcolor\":\"white\",\"linecolor\":\"white\",\"minorgridcolor\":\"white\",\"startlinecolor\":\"#2a3f5f\"},\"baxis\":{\"endlinecolor\":\"#2a3f5f\",\"gridcolor\":\"white\",\"linecolor\":\"white\",\"minorgridcolor\":\"white\",\"startlinecolor\":\"#2a3f5f\"},\"type\":\"carpet\"}],\"choropleth\":[{\"colorbar\":{\"outlinewidth\":0,\"ticks\":\"\"},\"type\":\"choropleth\"}],\"contour\":[{\"colorbar\":{\"outlinewidth\":0,\"ticks\":\"\"},\"colorscale\":[[0.0,\"#0d0887\"],[0.1111111111111111,\"#46039f\"],[0.2222222222222222,\"#7201a8\"],[0.3333333333333333,\"#9c179e\"],[0.4444444444444444,\"#bd3786\"],[0.5555555555555556,\"#d8576b\"],[0.6666666666666666,\"#ed7953\"],[0.7777777777777778,\"#fb9f3a\"],[0.8888888888888888,\"#fdca26\"],[1.0,\"#f0f921\"]],\"type\":\"contour\"}],\"contourcarpet\":[{\"colorbar\":{\"outlinewidth\":0,\"ticks\":\"\"},\"type\":\"contourcarpet\"}],\"heatmap\":[{\"colorbar\":{\"outlinewidth\":0,\"ticks\":\"\"},\"colorscale\":[[0.0,\"#0d0887\"],[0.1111111111111111,\"#46039f\"],[0.2222222222222222,\"#7201a8\"],[0.3333333333333333,\"#9c179e\"],[0.4444444444444444,\"#bd3786\"],[0.5555555555555556,\"#d8576b\"],[0.6666666666666666,\"#ed7953\"],[0.7777777777777778,\"#fb9f3a\"],[0.8888888888888888,\"#fdca26\"],[1.0,\"#f0f921\"]],\"type\":\"heatmap\"}],\"heatmapgl\":[{\"colorbar\":{\"outlinewidth\":0,\"ticks\":\"\"},\"colorscale\":[[0.0,\"#0d0887\"],[0.1111111111111111,\"#46039f\"],[0.2222222222222222,\"#7201a8\"],[0.3333333333333333,\"#9c179e\"],[0.4444444444444444,\"#bd3786\"],[0.5555555555555556,\"#d8576b\"],[0.6666666666666666,\"#ed7953\"],[0.7777777777777778,\"#fb9f3a\"],[0.8888888888888888,\"#fdca26\"],[1.0,\"#f0f921\"]],\"type\":\"heatmapgl\"}],\"histogram\":[{\"marker\":{\"pattern\":{\"fillmode\":\"overlay\",\"size\":10,\"solidity\":0.2}},\"type\":\"histogram\"}],\"histogram2d\":[{\"colorbar\":{\"outlinewidth\":0,\"ticks\":\"\"},\"colorscale\":[[0.0,\"#0d0887\"],[0.1111111111111111,\"#46039f\"],[0.2222222222222222,\"#7201a8\"],[0.3333333333333333,\"#9c179e\"],[0.4444444444444444,\"#bd3786\"],[0.5555555555555556,\"#d8576b\"],[0.6666666666666666,\"#ed7953\"],[0.7777777777777778,\"#fb9f3a\"],[0.8888888888888888,\"#fdca26\"],[1.0,\"#f0f921\"]],\"type\":\"histogram2d\"}],\"histogram2dcontour\":[{\"colorbar\":{\"outlinewidth\":0,\"ticks\":\"\"},\"colorscale\":[[0.0,\"#0d0887\"],[0.1111111111111111,\"#46039f\"],[0.2222222222222222,\"#7201a8\"],[0.3333333333333333,\"#9c179e\"],[0.4444444444444444,\"#bd3786\"],[0.5555555555555556,\"#d8576b\"],[0.6666666666666666,\"#ed7953\"],[0.7777777777777778,\"#fb9f3a\"],[0.8888888888888888,\"#fdca26\"],[1.0,\"#f0f921\"]],\"type\":\"histogram2dcontour\"}],\"mesh3d\":[{\"colorbar\":{\"outlinewidth\":0,\"ticks\":\"\"},\"type\":\"mesh3d\"}],\"parcoords\":[{\"line\":{\"colorbar\":{\"outlinewidth\":0,\"ticks\":\"\"}},\"type\":\"parcoords\"}],\"pie\":[{\"automargin\":true,\"type\":\"pie\"}],\"scatter\":[{\"marker\":{\"colorbar\":{\"outlinewidth\":0,\"ticks\":\"\"}},\"type\":\"scatter\"}],\"scatter3d\":[{\"line\":{\"colorbar\":{\"outlinewidth\":0,\"ticks\":\"\"}},\"marker\":{\"colorbar\":{\"outlinewidth\":0,\"ticks\":\"\"}},\"type\":\"scatter3d\"}],\"scattercarpet\":[{\"marker\":{\"colorbar\":{\"outlinewidth\":0,\"ticks\":\"\"}},\"type\":\"scattercarpet\"}],\"scattergeo\":[{\"marker\":{\"colorbar\":{\"outlinewidth\":0,\"ticks\":\"\"}},\"type\":\"scattergeo\"}],\"scattergl\":[{\"marker\":{\"colorbar\":{\"outlinewidth\":0,\"ticks\":\"\"}},\"type\":\"scattergl\"}],\"scattermapbox\":[{\"marker\":{\"colorbar\":{\"outlinewidth\":0,\"ticks\":\"\"}},\"type\":\"scattermapbox\"}],\"scatterpolar\":[{\"marker\":{\"colorbar\":{\"outlinewidth\":0,\"ticks\":\"\"}},\"type\":\"scatterpolar\"}],\"scatterpolargl\":[{\"marker\":{\"colorbar\":{\"outlinewidth\":0,\"ticks\":\"\"}},\"type\":\"scatterpolargl\"}],\"scatterternary\":[{\"marker\":{\"colorbar\":{\"outlinewidth\":0,\"ticks\":\"\"}},\"type\":\"scatterternary\"}],\"surface\":[{\"colorbar\":{\"outlinewidth\":0,\"ticks\":\"\"},\"colorscale\":[[0.0,\"#0d0887\"],[0.1111111111111111,\"#46039f\"],[0.2222222222222222,\"#7201a8\"],[0.3333333333333333,\"#9c179e\"],[0.4444444444444444,\"#bd3786\"],[0.5555555555555556,\"#d8576b\"],[0.6666666666666666,\"#ed7953\"],[0.7777777777777778,\"#fb9f3a\"],[0.8888888888888888,\"#fdca26\"],[1.0,\"#f0f921\"]],\"type\":\"surface\"}],\"table\":[{\"cells\":{\"fill\":{\"color\":\"#EBF0F8\"},\"line\":{\"color\":\"white\"}},\"header\":{\"fill\":{\"color\":\"#C8D4E3\"},\"line\":{\"color\":\"white\"}},\"type\":\"table\"}]},\"layout\":{\"annotationdefaults\":{\"arrowcolor\":\"#2a3f5f\",\"arrowhead\":0,\"arrowwidth\":1},\"autotypenumbers\":\"strict\",\"coloraxis\":{\"colorbar\":{\"outlinewidth\":0,\"ticks\":\"\"}},\"colorscale\":{\"diverging\":[[0,\"#8e0152\"],[0.1,\"#c51b7d\"],[0.2,\"#de77ae\"],[0.3,\"#f1b6da\"],[0.4,\"#fde0ef\"],[0.5,\"#f7f7f7\"],[0.6,\"#e6f5d0\"],[0.7,\"#b8e186\"],[0.8,\"#7fbc41\"],[0.9,\"#4d9221\"],[1,\"#276419\"]],\"sequential\":[[0.0,\"#0d0887\"],[0.1111111111111111,\"#46039f\"],[0.2222222222222222,\"#7201a8\"],[0.3333333333333333,\"#9c179e\"],[0.4444444444444444,\"#bd3786\"],[0.5555555555555556,\"#d8576b\"],[0.6666666666666666,\"#ed7953\"],[0.7777777777777778,\"#fb9f3a\"],[0.8888888888888888,\"#fdca26\"],[1.0,\"#f0f921\"]],\"sequentialminus\":[[0.0,\"#0d0887\"],[0.1111111111111111,\"#46039f\"],[0.2222222222222222,\"#7201a8\"],[0.3333333333333333,\"#9c179e\"],[0.4444444444444444,\"#bd3786\"],[0.5555555555555556,\"#d8576b\"],[0.6666666666666666,\"#ed7953\"],[0.7777777777777778,\"#fb9f3a\"],[0.8888888888888888,\"#fdca26\"],[1.0,\"#f0f921\"]]},\"colorway\":[\"#636efa\",\"#EF553B\",\"#00cc96\",\"#ab63fa\",\"#FFA15A\",\"#19d3f3\",\"#FF6692\",\"#B6E880\",\"#FF97FF\",\"#FECB52\"],\"font\":{\"color\":\"#2a3f5f\"},\"geo\":{\"bgcolor\":\"white\",\"lakecolor\":\"white\",\"landcolor\":\"#E5ECF6\",\"showlakes\":true,\"showland\":true,\"subunitcolor\":\"white\"},\"hoverlabel\":{\"align\":\"left\"},\"hovermode\":\"closest\",\"mapbox\":{\"style\":\"light\"},\"paper_bgcolor\":\"white\",\"plot_bgcolor\":\"#E5ECF6\",\"polar\":{\"angularaxis\":{\"gridcolor\":\"white\",\"linecolor\":\"white\",\"ticks\":\"\"},\"bgcolor\":\"#E5ECF6\",\"radialaxis\":{\"gridcolor\":\"white\",\"linecolor\":\"white\",\"ticks\":\"\"}},\"scene\":{\"xaxis\":{\"backgroundcolor\":\"#E5ECF6\",\"gridcolor\":\"white\",\"gridwidth\":2,\"linecolor\":\"white\",\"showbackground\":true,\"ticks\":\"\",\"zerolinecolor\":\"white\"},\"yaxis\":{\"backgroundcolor\":\"#E5ECF6\",\"gridcolor\":\"white\",\"gridwidth\":2,\"linecolor\":\"white\",\"showbackground\":true,\"ticks\":\"\",\"zerolinecolor\":\"white\"},\"zaxis\":{\"backgroundcolor\":\"#E5ECF6\",\"gridcolor\":\"white\",\"gridwidth\":2,\"linecolor\":\"white\",\"showbackground\":true,\"ticks\":\"\",\"zerolinecolor\":\"white\"}},\"shapedefaults\":{\"line\":{\"color\":\"#2a3f5f\"}},\"ternary\":{\"aaxis\":{\"gridcolor\":\"white\",\"linecolor\":\"white\",\"ticks\":\"\"},\"baxis\":{\"gridcolor\":\"white\",\"linecolor\":\"white\",\"ticks\":\"\"},\"bgcolor\":\"#E5ECF6\",\"caxis\":{\"gridcolor\":\"white\",\"linecolor\":\"white\",\"ticks\":\"\"}},\"title\":{\"x\":0.05},\"xaxis\":{\"automargin\":true,\"gridcolor\":\"white\",\"linecolor\":\"white\",\"ticks\":\"\",\"title\":{\"standoff\":15},\"zerolinecolor\":\"white\",\"zerolinewidth\":2},\"yaxis\":{\"automargin\":true,\"gridcolor\":\"white\",\"linecolor\":\"white\",\"ticks\":\"\",\"title\":{\"standoff\":15},\"zerolinecolor\":\"white\",\"zerolinewidth\":2}}},\"scene\":{\"domain\":{\"x\":[0.0,1.0],\"y\":[0.0,1.0]},\"xaxis\":{\"title\":{\"text\":\"Feature 1\"}},\"yaxis\":{\"title\":{\"text\":\"Feature 2\"}},\"zaxis\":{\"title\":{\"text\":\"Feature 3\"}}},\"legend\":{\"title\":{\"text\":\"color\"},\"tracegroupgap\":0},\"margin\":{\"t\":60}},                        {\"responsive\": true}                    ).then(function(){\n",
              "                            \n",
              "var gd = document.getElementById('b3444935-ca53-4fe2-a362-7e590636a343');\n",
              "var x = new MutationObserver(function (mutations, observer) {{\n",
              "        var display = window.getComputedStyle(gd).display;\n",
              "        if (!display || display === 'none') {{\n",
              "            console.log([gd, 'removed!']);\n",
              "            Plotly.purge(gd);\n",
              "            observer.disconnect();\n",
              "        }}\n",
              "}});\n",
              "\n",
              "// Listen for the removal of the full notebook cells\n",
              "var notebookContainer = gd.closest('#notebook-container');\n",
              "if (notebookContainer) {{\n",
              "    x.observe(notebookContainer, {childList: true});\n",
              "}}\n",
              "\n",
              "// Listen for the clearing of the current output cell\n",
              "var outputEl = gd.closest('.output');\n",
              "if (outputEl) {{\n",
              "    x.observe(outputEl, {childList: true});\n",
              "}}\n",
              "\n",
              "                        })                };                            </script>        </div>\n",
              "</body>\n",
              "</html>"
            ]
          },
          "metadata": {}
        }
      ]
    },
    {
      "cell_type": "markdown",
      "metadata": {
        "id": "IHIp4mt8Gtnk"
      },
      "source": [
        "## Train & Classification\n",
        "All data is used to train model"
      ]
    },
    {
      "cell_type": "code",
      "source": [
        "params = train_model(dataset)"
      ],
      "metadata": {
        "id": "v6Fkfxwcud_X"
      },
      "execution_count": 17,
      "outputs": []
    },
    {
      "cell_type": "code",
      "metadata": {
        "id": "-enccIQcG-Pv"
      },
      "source": [
        "feature_columns = dataset.columns[dataset.columns != 'Class']\n",
        "samples = dataset.loc[:, feature_columns]\n",
        "predicted_labels = classify(samples, params)"
      ],
      "execution_count": 18,
      "outputs": []
    },
    {
      "cell_type": "markdown",
      "metadata": {
        "id": "lfVXpBZAKAm1"
      },
      "source": [
        "## Confustion Matrix"
      ]
    },
    {
      "cell_type": "code",
      "metadata": {
        "id": "rVVLnAtTUiTC",
        "colab": {
          "base_uri": "https://localhost:8080/",
          "height": 195
        },
        "outputId": "e981f65d-4440-4fe9-a5cb-c3139aa8d2c0"
      },
      "source": [
        "confusion_matrix = get_confusion_matrix(dataset['Class'], predicted_labels)\n",
        "print('Rows is predicted labels and Columns is true labels')\n",
        "confusion_matrix"
      ],
      "execution_count": 19,
      "outputs": [
        {
          "output_type": "stream",
          "name": "stdout",
          "text": [
            "Rows is predicted labels and Columns is true labels\n"
          ]
        },
        {
          "output_type": "execute_result",
          "data": {
            "text/html": [
              "\n",
              "  <div id=\"df-e09afbb4-0e6f-4b39-83fc-9f692df932d0\">\n",
              "    <div class=\"colab-df-container\">\n",
              "      <div>\n",
              "<style scoped>\n",
              "    .dataframe tbody tr th:only-of-type {\n",
              "        vertical-align: middle;\n",
              "    }\n",
              "\n",
              "    .dataframe tbody tr th {\n",
              "        vertical-align: top;\n",
              "    }\n",
              "\n",
              "    .dataframe thead th {\n",
              "        text-align: right;\n",
              "    }\n",
              "</style>\n",
              "<table border=\"1\" class=\"dataframe\">\n",
              "  <thead>\n",
              "    <tr style=\"text-align: right;\">\n",
              "      <th></th>\n",
              "      <th>1</th>\n",
              "      <th>2</th>\n",
              "    </tr>\n",
              "  </thead>\n",
              "  <tbody>\n",
              "    <tr>\n",
              "      <th>1</th>\n",
              "      <td>175</td>\n",
              "      <td>38</td>\n",
              "    </tr>\n",
              "    <tr>\n",
              "      <th>2</th>\n",
              "      <td>50</td>\n",
              "      <td>43</td>\n",
              "    </tr>\n",
              "  </tbody>\n",
              "</table>\n",
              "</div>\n",
              "      <button class=\"colab-df-convert\" onclick=\"convertToInteractive('df-e09afbb4-0e6f-4b39-83fc-9f692df932d0')\"\n",
              "              title=\"Convert this dataframe to an interactive table.\"\n",
              "              style=\"display:none;\">\n",
              "        \n",
              "  <svg xmlns=\"http://www.w3.org/2000/svg\" height=\"24px\"viewBox=\"0 0 24 24\"\n",
              "       width=\"24px\">\n",
              "    <path d=\"M0 0h24v24H0V0z\" fill=\"none\"/>\n",
              "    <path d=\"M18.56 5.44l.94 2.06.94-2.06 2.06-.94-2.06-.94-.94-2.06-.94 2.06-2.06.94zm-11 1L8.5 8.5l.94-2.06 2.06-.94-2.06-.94L8.5 2.5l-.94 2.06-2.06.94zm10 10l.94 2.06.94-2.06 2.06-.94-2.06-.94-.94-2.06-.94 2.06-2.06.94z\"/><path d=\"M17.41 7.96l-1.37-1.37c-.4-.4-.92-.59-1.43-.59-.52 0-1.04.2-1.43.59L10.3 9.45l-7.72 7.72c-.78.78-.78 2.05 0 2.83L4 21.41c.39.39.9.59 1.41.59.51 0 1.02-.2 1.41-.59l7.78-7.78 2.81-2.81c.8-.78.8-2.07 0-2.86zM5.41 20L4 18.59l7.72-7.72 1.47 1.35L5.41 20z\"/>\n",
              "  </svg>\n",
              "      </button>\n",
              "      \n",
              "  <style>\n",
              "    .colab-df-container {\n",
              "      display:flex;\n",
              "      flex-wrap:wrap;\n",
              "      gap: 12px;\n",
              "    }\n",
              "\n",
              "    .colab-df-convert {\n",
              "      background-color: #E8F0FE;\n",
              "      border: none;\n",
              "      border-radius: 50%;\n",
              "      cursor: pointer;\n",
              "      display: none;\n",
              "      fill: #1967D2;\n",
              "      height: 32px;\n",
              "      padding: 0 0 0 0;\n",
              "      width: 32px;\n",
              "    }\n",
              "\n",
              "    .colab-df-convert:hover {\n",
              "      background-color: #E2EBFA;\n",
              "      box-shadow: 0px 1px 2px rgba(60, 64, 67, 0.3), 0px 1px 3px 1px rgba(60, 64, 67, 0.15);\n",
              "      fill: #174EA6;\n",
              "    }\n",
              "\n",
              "    [theme=dark] .colab-df-convert {\n",
              "      background-color: #3B4455;\n",
              "      fill: #D2E3FC;\n",
              "    }\n",
              "\n",
              "    [theme=dark] .colab-df-convert:hover {\n",
              "      background-color: #434B5C;\n",
              "      box-shadow: 0px 1px 3px 1px rgba(0, 0, 0, 0.15);\n",
              "      filter: drop-shadow(0px 1px 2px rgba(0, 0, 0, 0.3));\n",
              "      fill: #FFFFFF;\n",
              "    }\n",
              "  </style>\n",
              "\n",
              "      <script>\n",
              "        const buttonEl =\n",
              "          document.querySelector('#df-e09afbb4-0e6f-4b39-83fc-9f692df932d0 button.colab-df-convert');\n",
              "        buttonEl.style.display =\n",
              "          google.colab.kernel.accessAllowed ? 'block' : 'none';\n",
              "\n",
              "        async function convertToInteractive(key) {\n",
              "          const element = document.querySelector('#df-e09afbb4-0e6f-4b39-83fc-9f692df932d0');\n",
              "          const dataTable =\n",
              "            await google.colab.kernel.invokeFunction('convertToInteractive',\n",
              "                                                     [key], {});\n",
              "          if (!dataTable) return;\n",
              "\n",
              "          const docLinkHtml = 'Like what you see? Visit the ' +\n",
              "            '<a target=\"_blank\" href=https://colab.research.google.com/notebooks/data_table.ipynb>data table notebook</a>'\n",
              "            + ' to learn more about interactive tables.';\n",
              "          element.innerHTML = '';\n",
              "          dataTable['output_type'] = 'display_data';\n",
              "          await google.colab.output.renderOutput(dataTable, element);\n",
              "          const docLink = document.createElement('div');\n",
              "          docLink.innerHTML = docLinkHtml;\n",
              "          element.appendChild(docLink);\n",
              "        }\n",
              "      </script>\n",
              "    </div>\n",
              "  </div>\n",
              "  "
            ],
            "text/plain": [
              "     1   2\n",
              "1  175  38\n",
              "2   50  43"
            ]
          },
          "metadata": {},
          "execution_count": 19
        }
      ]
    },
    {
      "cell_type": "code",
      "metadata": {
        "id": "r4JfcoxeKFmC",
        "colab": {
          "base_uri": "https://localhost:8080/"
        },
        "outputId": "fb4ec774-7dfc-449a-c1e7-47447f190d6d"
      },
      "source": [
        "accuracies = evaluate_model(confusion_matrix)\n",
        "print(f'Total Accuracy {accuracies[0]:.0%}')\n",
        "for idx, accuracy in enumerate(accuracies[1:]):\n",
        "  print(f'Accuracy Class {idx+1} {accuracy:.0%}')"
      ],
      "execution_count": 20,
      "outputs": [
        {
          "output_type": "stream",
          "name": "stdout",
          "text": [
            "Total Accuracy 71%\n",
            "Accuracy Class 1 78%\n",
            "Accuracy Class 2 53%\n"
          ]
        }
      ]
    },
    {
      "cell_type": "markdown",
      "metadata": {
        "id": "lXtac5R3_i3V"
      },
      "source": [
        "# User Modeling Dataset \n",
        "4 classes with 5 features that are normally distributed "
      ]
    },
    {
      "cell_type": "code",
      "metadata": {
        "id": "ZV5uB2Vh_i3X",
        "colab": {
          "base_uri": "https://localhost:8080/",
          "height": 206
        },
        "outputId": "665a88e9-fc85-48c6-e3d0-31bb5bc309d6"
      },
      "source": [
        "dataset = pd.read_csv('/content/drive/MyDrive/Colab Notebooks/Pattern Recognition/Dataset/Data_User_Modeling_Dataset.txt', sep='\t', header=None)\n",
        "dataset.columns = ['Feature 1', 'Feature 2', 'Feature 3', 'Feature 4', 'Feature 5', 'Class']\n",
        "dataset.head()"
      ],
      "execution_count": 21,
      "outputs": [
        {
          "output_type": "execute_result",
          "data": {
            "text/html": [
              "\n",
              "  <div id=\"df-aff9f488-5e72-4378-af0a-f859d77859a6\">\n",
              "    <div class=\"colab-df-container\">\n",
              "      <div>\n",
              "<style scoped>\n",
              "    .dataframe tbody tr th:only-of-type {\n",
              "        vertical-align: middle;\n",
              "    }\n",
              "\n",
              "    .dataframe tbody tr th {\n",
              "        vertical-align: top;\n",
              "    }\n",
              "\n",
              "    .dataframe thead th {\n",
              "        text-align: right;\n",
              "    }\n",
              "</style>\n",
              "<table border=\"1\" class=\"dataframe\">\n",
              "  <thead>\n",
              "    <tr style=\"text-align: right;\">\n",
              "      <th></th>\n",
              "      <th>Feature 1</th>\n",
              "      <th>Feature 2</th>\n",
              "      <th>Feature 3</th>\n",
              "      <th>Feature 4</th>\n",
              "      <th>Feature 5</th>\n",
              "      <th>Class</th>\n",
              "    </tr>\n",
              "  </thead>\n",
              "  <tbody>\n",
              "    <tr>\n",
              "      <th>0</th>\n",
              "      <td>0.08</td>\n",
              "      <td>0.08</td>\n",
              "      <td>0.10</td>\n",
              "      <td>0.24</td>\n",
              "      <td>0.90</td>\n",
              "      <td>1</td>\n",
              "    </tr>\n",
              "    <tr>\n",
              "      <th>1</th>\n",
              "      <td>0.06</td>\n",
              "      <td>0.06</td>\n",
              "      <td>0.05</td>\n",
              "      <td>0.25</td>\n",
              "      <td>0.33</td>\n",
              "      <td>2</td>\n",
              "    </tr>\n",
              "    <tr>\n",
              "      <th>2</th>\n",
              "      <td>0.10</td>\n",
              "      <td>0.10</td>\n",
              "      <td>0.15</td>\n",
              "      <td>0.65</td>\n",
              "      <td>0.30</td>\n",
              "      <td>3</td>\n",
              "    </tr>\n",
              "    <tr>\n",
              "      <th>3</th>\n",
              "      <td>0.08</td>\n",
              "      <td>0.08</td>\n",
              "      <td>0.08</td>\n",
              "      <td>0.98</td>\n",
              "      <td>0.24</td>\n",
              "      <td>2</td>\n",
              "    </tr>\n",
              "    <tr>\n",
              "      <th>4</th>\n",
              "      <td>0.09</td>\n",
              "      <td>0.15</td>\n",
              "      <td>0.40</td>\n",
              "      <td>0.10</td>\n",
              "      <td>0.66</td>\n",
              "      <td>3</td>\n",
              "    </tr>\n",
              "  </tbody>\n",
              "</table>\n",
              "</div>\n",
              "      <button class=\"colab-df-convert\" onclick=\"convertToInteractive('df-aff9f488-5e72-4378-af0a-f859d77859a6')\"\n",
              "              title=\"Convert this dataframe to an interactive table.\"\n",
              "              style=\"display:none;\">\n",
              "        \n",
              "  <svg xmlns=\"http://www.w3.org/2000/svg\" height=\"24px\"viewBox=\"0 0 24 24\"\n",
              "       width=\"24px\">\n",
              "    <path d=\"M0 0h24v24H0V0z\" fill=\"none\"/>\n",
              "    <path d=\"M18.56 5.44l.94 2.06.94-2.06 2.06-.94-2.06-.94-.94-2.06-.94 2.06-2.06.94zm-11 1L8.5 8.5l.94-2.06 2.06-.94-2.06-.94L8.5 2.5l-.94 2.06-2.06.94zm10 10l.94 2.06.94-2.06 2.06-.94-2.06-.94-.94-2.06-.94 2.06-2.06.94z\"/><path d=\"M17.41 7.96l-1.37-1.37c-.4-.4-.92-.59-1.43-.59-.52 0-1.04.2-1.43.59L10.3 9.45l-7.72 7.72c-.78.78-.78 2.05 0 2.83L4 21.41c.39.39.9.59 1.41.59.51 0 1.02-.2 1.41-.59l7.78-7.78 2.81-2.81c.8-.78.8-2.07 0-2.86zM5.41 20L4 18.59l7.72-7.72 1.47 1.35L5.41 20z\"/>\n",
              "  </svg>\n",
              "      </button>\n",
              "      \n",
              "  <style>\n",
              "    .colab-df-container {\n",
              "      display:flex;\n",
              "      flex-wrap:wrap;\n",
              "      gap: 12px;\n",
              "    }\n",
              "\n",
              "    .colab-df-convert {\n",
              "      background-color: #E8F0FE;\n",
              "      border: none;\n",
              "      border-radius: 50%;\n",
              "      cursor: pointer;\n",
              "      display: none;\n",
              "      fill: #1967D2;\n",
              "      height: 32px;\n",
              "      padding: 0 0 0 0;\n",
              "      width: 32px;\n",
              "    }\n",
              "\n",
              "    .colab-df-convert:hover {\n",
              "      background-color: #E2EBFA;\n",
              "      box-shadow: 0px 1px 2px rgba(60, 64, 67, 0.3), 0px 1px 3px 1px rgba(60, 64, 67, 0.15);\n",
              "      fill: #174EA6;\n",
              "    }\n",
              "\n",
              "    [theme=dark] .colab-df-convert {\n",
              "      background-color: #3B4455;\n",
              "      fill: #D2E3FC;\n",
              "    }\n",
              "\n",
              "    [theme=dark] .colab-df-convert:hover {\n",
              "      background-color: #434B5C;\n",
              "      box-shadow: 0px 1px 3px 1px rgba(0, 0, 0, 0.15);\n",
              "      filter: drop-shadow(0px 1px 2px rgba(0, 0, 0, 0.3));\n",
              "      fill: #FFFFFF;\n",
              "    }\n",
              "  </style>\n",
              "\n",
              "      <script>\n",
              "        const buttonEl =\n",
              "          document.querySelector('#df-aff9f488-5e72-4378-af0a-f859d77859a6 button.colab-df-convert');\n",
              "        buttonEl.style.display =\n",
              "          google.colab.kernel.accessAllowed ? 'block' : 'none';\n",
              "\n",
              "        async function convertToInteractive(key) {\n",
              "          const element = document.querySelector('#df-aff9f488-5e72-4378-af0a-f859d77859a6');\n",
              "          const dataTable =\n",
              "            await google.colab.kernel.invokeFunction('convertToInteractive',\n",
              "                                                     [key], {});\n",
              "          if (!dataTable) return;\n",
              "\n",
              "          const docLinkHtml = 'Like what you see? Visit the ' +\n",
              "            '<a target=\"_blank\" href=https://colab.research.google.com/notebooks/data_table.ipynb>data table notebook</a>'\n",
              "            + ' to learn more about interactive tables.';\n",
              "          element.innerHTML = '';\n",
              "          dataTable['output_type'] = 'display_data';\n",
              "          await google.colab.output.renderOutput(dataTable, element);\n",
              "          const docLink = document.createElement('div');\n",
              "          docLink.innerHTML = docLinkHtml;\n",
              "          element.appendChild(docLink);\n",
              "        }\n",
              "      </script>\n",
              "    </div>\n",
              "  </div>\n",
              "  "
            ],
            "text/plain": [
              "   Feature 1  Feature 2  Feature 3  Feature 4  Feature 5  Class\n",
              "0       0.08       0.08       0.10       0.24       0.90      1\n",
              "1       0.06       0.06       0.05       0.25       0.33      2\n",
              "2       0.10       0.10       0.15       0.65       0.30      3\n",
              "3       0.08       0.08       0.08       0.98       0.24      2\n",
              "4       0.09       0.15       0.40       0.10       0.66      3"
            ]
          },
          "metadata": {},
          "execution_count": 21
        }
      ]
    },
    {
      "cell_type": "code",
      "source": [
        "dataset['Class'].unique()"
      ],
      "metadata": {
        "id": "3QGWHvj-zADp",
        "colab": {
          "base_uri": "https://localhost:8080/"
        },
        "outputId": "ecf51d26-7fc1-4646-bd17-a7ad3ca9fe1a"
      },
      "execution_count": 22,
      "outputs": [
        {
          "output_type": "execute_result",
          "data": {
            "text/plain": [
              "array([1, 2, 3, 4])"
            ]
          },
          "metadata": {},
          "execution_count": 22
        }
      ]
    },
    {
      "cell_type": "markdown",
      "metadata": {
        "id": "XdFkNgHc_i3Z"
      },
      "source": [
        "## Train & Classification\n",
        "All data is used to train model"
      ]
    },
    {
      "cell_type": "code",
      "source": [
        "params = train_model(dataset)"
      ],
      "metadata": {
        "id": "Wxn_unXAzhhg"
      },
      "execution_count": 23,
      "outputs": []
    },
    {
      "cell_type": "code",
      "metadata": {
        "id": "GD1c7hDx_i3a"
      },
      "source": [
        "feature_columns = dataset.columns[dataset.columns != 'Class']\n",
        "samples = dataset.loc[:, feature_columns]\n",
        "predicted_labels = classify(samples, params)"
      ],
      "execution_count": 24,
      "outputs": []
    },
    {
      "cell_type": "markdown",
      "metadata": {
        "id": "20od4qE9_i3b"
      },
      "source": [
        "## Confustion Matrix"
      ]
    },
    {
      "cell_type": "code",
      "metadata": {
        "id": "s271HLGD_i3c",
        "colab": {
          "base_uri": "https://localhost:8080/",
          "height": 194
        },
        "outputId": "460036a4-d808-435b-b687-20464cd7f525"
      },
      "source": [
        "confusion_matrix = get_confusion_matrix(dataset['Class'], predicted_labels)\n",
        "print('Rows is predicted labels and Columns is true labels')\n",
        "confusion_matrix"
      ],
      "execution_count": 25,
      "outputs": [
        {
          "output_type": "stream",
          "name": "stdout",
          "text": [
            "Rows is predicted labels and Columns is true labels\n"
          ]
        },
        {
          "output_type": "execute_result",
          "data": {
            "text/html": [
              "\n",
              "  <div id=\"df-f3a29ed5-7db2-4b04-bccc-88510d60b5ef\">\n",
              "    <div class=\"colab-df-container\">\n",
              "      <div>\n",
              "<style scoped>\n",
              "    .dataframe tbody tr th:only-of-type {\n",
              "        vertical-align: middle;\n",
              "    }\n",
              "\n",
              "    .dataframe tbody tr th {\n",
              "        vertical-align: top;\n",
              "    }\n",
              "\n",
              "    .dataframe thead th {\n",
              "        text-align: right;\n",
              "    }\n",
              "</style>\n",
              "<table border=\"1\" class=\"dataframe\">\n",
              "  <thead>\n",
              "    <tr style=\"text-align: right;\">\n",
              "      <th></th>\n",
              "      <th>1</th>\n",
              "      <th>2</th>\n",
              "      <th>3</th>\n",
              "      <th>4</th>\n",
              "    </tr>\n",
              "  </thead>\n",
              "  <tbody>\n",
              "    <tr>\n",
              "      <th>1</th>\n",
              "      <td>52</td>\n",
              "      <td>0</td>\n",
              "      <td>2</td>\n",
              "      <td>0</td>\n",
              "    </tr>\n",
              "    <tr>\n",
              "      <th>2</th>\n",
              "      <td>0</td>\n",
              "      <td>57</td>\n",
              "      <td>18</td>\n",
              "      <td>3</td>\n",
              "    </tr>\n",
              "    <tr>\n",
              "      <th>3</th>\n",
              "      <td>11</td>\n",
              "      <td>12</td>\n",
              "      <td>68</td>\n",
              "      <td>0</td>\n",
              "    </tr>\n",
              "    <tr>\n",
              "      <th>4</th>\n",
              "      <td>0</td>\n",
              "      <td>14</td>\n",
              "      <td>0</td>\n",
              "      <td>20</td>\n",
              "    </tr>\n",
              "  </tbody>\n",
              "</table>\n",
              "</div>\n",
              "      <button class=\"colab-df-convert\" onclick=\"convertToInteractive('df-f3a29ed5-7db2-4b04-bccc-88510d60b5ef')\"\n",
              "              title=\"Convert this dataframe to an interactive table.\"\n",
              "              style=\"display:none;\">\n",
              "        \n",
              "  <svg xmlns=\"http://www.w3.org/2000/svg\" height=\"24px\"viewBox=\"0 0 24 24\"\n",
              "       width=\"24px\">\n",
              "    <path d=\"M0 0h24v24H0V0z\" fill=\"none\"/>\n",
              "    <path d=\"M18.56 5.44l.94 2.06.94-2.06 2.06-.94-2.06-.94-.94-2.06-.94 2.06-2.06.94zm-11 1L8.5 8.5l.94-2.06 2.06-.94-2.06-.94L8.5 2.5l-.94 2.06-2.06.94zm10 10l.94 2.06.94-2.06 2.06-.94-2.06-.94-.94-2.06-.94 2.06-2.06.94z\"/><path d=\"M17.41 7.96l-1.37-1.37c-.4-.4-.92-.59-1.43-.59-.52 0-1.04.2-1.43.59L10.3 9.45l-7.72 7.72c-.78.78-.78 2.05 0 2.83L4 21.41c.39.39.9.59 1.41.59.51 0 1.02-.2 1.41-.59l7.78-7.78 2.81-2.81c.8-.78.8-2.07 0-2.86zM5.41 20L4 18.59l7.72-7.72 1.47 1.35L5.41 20z\"/>\n",
              "  </svg>\n",
              "      </button>\n",
              "      \n",
              "  <style>\n",
              "    .colab-df-container {\n",
              "      display:flex;\n",
              "      flex-wrap:wrap;\n",
              "      gap: 12px;\n",
              "    }\n",
              "\n",
              "    .colab-df-convert {\n",
              "      background-color: #E8F0FE;\n",
              "      border: none;\n",
              "      border-radius: 50%;\n",
              "      cursor: pointer;\n",
              "      display: none;\n",
              "      fill: #1967D2;\n",
              "      height: 32px;\n",
              "      padding: 0 0 0 0;\n",
              "      width: 32px;\n",
              "    }\n",
              "\n",
              "    .colab-df-convert:hover {\n",
              "      background-color: #E2EBFA;\n",
              "      box-shadow: 0px 1px 2px rgba(60, 64, 67, 0.3), 0px 1px 3px 1px rgba(60, 64, 67, 0.15);\n",
              "      fill: #174EA6;\n",
              "    }\n",
              "\n",
              "    [theme=dark] .colab-df-convert {\n",
              "      background-color: #3B4455;\n",
              "      fill: #D2E3FC;\n",
              "    }\n",
              "\n",
              "    [theme=dark] .colab-df-convert:hover {\n",
              "      background-color: #434B5C;\n",
              "      box-shadow: 0px 1px 3px 1px rgba(0, 0, 0, 0.15);\n",
              "      filter: drop-shadow(0px 1px 2px rgba(0, 0, 0, 0.3));\n",
              "      fill: #FFFFFF;\n",
              "    }\n",
              "  </style>\n",
              "\n",
              "      <script>\n",
              "        const buttonEl =\n",
              "          document.querySelector('#df-f3a29ed5-7db2-4b04-bccc-88510d60b5ef button.colab-df-convert');\n",
              "        buttonEl.style.display =\n",
              "          google.colab.kernel.accessAllowed ? 'block' : 'none';\n",
              "\n",
              "        async function convertToInteractive(key) {\n",
              "          const element = document.querySelector('#df-f3a29ed5-7db2-4b04-bccc-88510d60b5ef');\n",
              "          const dataTable =\n",
              "            await google.colab.kernel.invokeFunction('convertToInteractive',\n",
              "                                                     [key], {});\n",
              "          if (!dataTable) return;\n",
              "\n",
              "          const docLinkHtml = 'Like what you see? Visit the ' +\n",
              "            '<a target=\"_blank\" href=https://colab.research.google.com/notebooks/data_table.ipynb>data table notebook</a>'\n",
              "            + ' to learn more about interactive tables.';\n",
              "          element.innerHTML = '';\n",
              "          dataTable['output_type'] = 'display_data';\n",
              "          await google.colab.output.renderOutput(dataTable, element);\n",
              "          const docLink = document.createElement('div');\n",
              "          docLink.innerHTML = docLinkHtml;\n",
              "          element.appendChild(docLink);\n",
              "        }\n",
              "      </script>\n",
              "    </div>\n",
              "  </div>\n",
              "  "
            ],
            "text/plain": [
              "    1   2   3   4\n",
              "1  52   0   2   0\n",
              "2   0  57  18   3\n",
              "3  11  12  68   0\n",
              "4   0  14   0  20"
            ]
          },
          "metadata": {},
          "execution_count": 25
        }
      ]
    },
    {
      "cell_type": "code",
      "metadata": {
        "id": "uj0bVA4h_i3d",
        "colab": {
          "base_uri": "https://localhost:8080/"
        },
        "outputId": "1a4faeae-1e11-47d1-dd96-4b63d5c8b528"
      },
      "source": [
        "accuracies = evaluate_model(confusion_matrix)\n",
        "print(f'Total Accuracy {accuracies[0]:.0%}')\n",
        "for idx, accuracy in enumerate(accuracies[1:]):\n",
        "  print(f'Accuracy Class {idx+1} {accuracy:.0%}')"
      ],
      "execution_count": 26,
      "outputs": [
        {
          "output_type": "stream",
          "name": "stdout",
          "text": [
            "Total Accuracy 77%\n",
            "Accuracy Class 1 83%\n",
            "Accuracy Class 2 69%\n",
            "Accuracy Class 3 77%\n",
            "Accuracy Class 4 87%\n"
          ]
        }
      ]
    }
  ]
}