{
  "nbformat": 4,
  "nbformat_minor": 0,
  "metadata": {
    "colab": {
      "name": "Minimum Mahalanobis Distance Classifier.ipynb",
      "provenance": [],
      "collapsed_sections": [
        "H5MacQhoGBS8",
        "cbUIvrNR5UL9",
        "ppjBvnJOjs6V",
        "fTqNxeFymzC3",
        "Xmoz7g6RAP9b",
        "hd0pT-xJQAQE",
        "Wml00FswhoNr",
        "K8bV6VY6QAQV",
        "Rq5i5bCWQAQX",
        "i8z6s6ddGGgV",
        "3X0_fkhziOrp",
        "IHIp4mt8Gtnk",
        "lfVXpBZAKAm1",
        "lXtac5R3_i3V",
        "XdFkNgHc_i3Z",
        "20od4qE9_i3b"
      ],
      "mount_file_id": "1MakLKN9cbzV-OYL6k1MH5cWScEm_N9Az",
      "authorship_tag": "ABX9TyN2IW5K8hYEfpuXGdfQ4twv"
    },
    "kernelspec": {
      "name": "python3",
      "display_name": "Python 3"
    },
    "language_info": {
      "name": "python"
    }
  },
  "cells": [
    {
      "cell_type": "markdown",
      "metadata": {
        "id": "H5MacQhoGBS8"
      },
      "source": [
        "# Minimum Euclidean Distance Classifier\n",
        "The minimum distance classifier is used to classify unknown data to classes which minimize the distance between the data and the class in multi-feature space. The distance is defined as an index of similarity so that the minimum distance is identical to the maximum similarity."
      ]
    },
    {
      "cell_type": "code",
      "metadata": {
        "id": "R1kQDPKXlMvZ"
      },
      "source": [
        "import numpy as np\n",
        "import pandas as pd\n",
        "import matplotlib.pyplot as plt\n",
        "import plotly.express as px"
      ],
      "execution_count": 1,
      "outputs": []
    },
    {
      "cell_type": "markdown",
      "source": [
        "## Train Model\n",
        "The learning of our data consists of the following:   \n",
        "*   We split our dataset into subsets corresponding to each label y.\n",
        "*   For each subset, we estimate the mean and covariance."
      ],
      "metadata": {
        "id": "cbUIvrNR5UL9"
      }
    },
    {
      "cell_type": "code",
      "source": [
        "def train_model(dataset):\n",
        "  grouped = dataset.groupby(['Class'])\n",
        "  feature_columns = dataset.columns[dataset.columns != 'Class']\n",
        "  params = dict()\n",
        "  for name, group in grouped:\n",
        "    samples = group[feature_columns]\n",
        "    params[name] = {'cov': samples.cov(),\n",
        "                    'mean': samples.mean()}\n",
        "  return params"
      ],
      "metadata": {
        "id": "AtWHIVk-3xGy"
      },
      "execution_count": 2,
      "outputs": []
    },
    {
      "cell_type": "markdown",
      "metadata": {
        "id": "ppjBvnJOjs6V"
      },
      "source": [
        "## Classifier\n",
        "When making a prediction on a new data vector x:\n",
        "*   We calculate the Mahalanobis distance of the new data with the average of each class.\n",
        "*   Return the label of the class with the shortest distance to the new data .\n"
      ]
    },
    {
      "cell_type": "code",
      "metadata": {
        "id": "NJMjelK1IhOO"
      },
      "source": [
        "def classify(dataset, params):\n",
        "  predicted_labels = np.empty(len(dataset))\n",
        "  for index, row in dataset.iterrows(): \n",
        "    classifieds = list()\n",
        "    for idx, param in params.items():\n",
        "      distance = get_mahalanobis_distance(row, param['mean'], param['cov'])\n",
        "      classifieds.append(distance)\n",
        "    min_dis_idx = np.argmin(classifieds)\n",
        "    predicted_label = min_dis_idx + 1\n",
        "    predicted_labels[index] = predicted_label\n",
        "  return predicted_labels"
      ],
      "execution_count": 3,
      "outputs": []
    },
    {
      "cell_type": "markdown",
      "metadata": {
        "id": "fTqNxeFymzC3"
      },
      "source": [
        "## Mahalanobis Distance\n",
        "Mahalanobis distance is an effective multivariate distance metric that measures the distance between a point (vector) and a distribution.\n",
        "![image.png](data:image/png;base64,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)\n",
        "\n",
        "\n",
        "*   D^2 is the square of the Mahalanobis distance.\n",
        "*   x is the vector of the observation (row in a dataset),\n",
        "*   m is the vector of mean values of independent variables (mean of each column),\n",
        "*   C^(-1) is the inverse covariance matrix of independent variables."
      ]
    },
    {
      "cell_type": "code",
      "metadata": {
        "id": "Fz-VtI1RiwSI"
      },
      "source": [
        "def get_mahalanobis_distance(x, mean, covariance):\n",
        "  return np.sqrt((x - mean).T @ np.linalg.inv(covariance) @ (x - mean))"
      ],
      "execution_count": 4,
      "outputs": []
    },
    {
      "cell_type": "markdown",
      "metadata": {
        "id": "Xmoz7g6RAP9b"
      },
      "source": [
        "## Confusion Matrix\n",
        "A confusion matrix is a summary of prediction results on a classification problem.\n",
        "\n",
        "The number of correct and incorrect predictions are summarized with count values and broken down by each class. "
      ]
    },
    {
      "cell_type": "code",
      "metadata": {
        "id": "SGJ0Sct1SKO8"
      },
      "source": [
        "def get_confusion_matrix(class_labels, predicted_labels):\n",
        "  labels = class_labels.unique()\n",
        "  confusion_matrix = dict()\n",
        "  for class_label in labels:\n",
        "    p_labels = predicted_labels[class_labels == class_label]\n",
        "    confusion_matrix[class_label] = list()\n",
        "    for predicted_label in labels:\n",
        "      confusion_matrix[class_label].append((p_labels == predicted_label).sum())\n",
        "  return pd.DataFrame(confusion_matrix, index=range(1, len(labels) + 1))"
      ],
      "execution_count": 5,
      "outputs": []
    },
    {
      "cell_type": "code",
      "metadata": {
        "id": "wQR7gQnjJQR3"
      },
      "source": [
        "#return accuracy of classifier [Total, Class 1, Class 2, ...]\n",
        "def evaluate_model(confusion_matrix):\n",
        "  accuracy = [np.diag(confusion_matrix).sum() / confusion_matrix.sum().sum()]\n",
        "  for label in range(1, confusion_matrix.shape[0] + 1):\n",
        "    accuracy.append(confusion_matrix[label][label] / confusion_matrix[label].sum())\n",
        "  return accuracy"
      ],
      "execution_count": 6,
      "outputs": []
    },
    {
      "cell_type": "markdown",
      "metadata": {
        "id": "hd0pT-xJQAQE"
      },
      "source": [
        "# Sample Dataset \n",
        "2 classes with 2 features that are normally distributed "
      ]
    },
    {
      "cell_type": "code",
      "metadata": {
        "colab": {
          "base_uri": "https://localhost:8080/",
          "height": 206
        },
        "outputId": "a0a64b94-d247-42df-aa85-bf76163d7b01",
        "id": "0rRsbD1oQAQG"
      },
      "source": [
        "n_data = 500\n",
        "# First class\n",
        "mean = [0, 0]\n",
        "cov = [[1, 0.5], [0.5, 2]]\n",
        "first_class = np.random.multivariate_normal(mean, cov, n_data)\n",
        "first_class = np.c_[first_class, np.ones(first_class.shape[0])]\n",
        "# Second class\n",
        "mean = [3, 3]\n",
        "cov = [[2, -1], [-1, 1]]\n",
        "second_class = np.random.multivariate_normal(mean, cov, n_data)\n",
        "second_class = np.c_[second_class, np.ones(second_class.shape[0]) * 2]\n",
        "# Create dataset\n",
        "dataset = pd.DataFrame(np.vstack((first_class, second_class)))\n",
        "dataset.columns = ['Feature 1', 'Feature 2', 'Class']\n",
        "dataset.head()"
      ],
      "execution_count": 7,
      "outputs": [
        {
          "output_type": "execute_result",
          "data": {
            "text/html": [
              "\n",
              "  <div id=\"df-404735bf-afa0-4755-806f-9e965d27f9c1\">\n",
              "    <div class=\"colab-df-container\">\n",
              "      <div>\n",
              "<style scoped>\n",
              "    .dataframe tbody tr th:only-of-type {\n",
              "        vertical-align: middle;\n",
              "    }\n",
              "\n",
              "    .dataframe tbody tr th {\n",
              "        vertical-align: top;\n",
              "    }\n",
              "\n",
              "    .dataframe thead th {\n",
              "        text-align: right;\n",
              "    }\n",
              "</style>\n",
              "<table border=\"1\" class=\"dataframe\">\n",
              "  <thead>\n",
              "    <tr style=\"text-align: right;\">\n",
              "      <th></th>\n",
              "      <th>Feature 1</th>\n",
              "      <th>Feature 2</th>\n",
              "      <th>Class</th>\n",
              "    </tr>\n",
              "  </thead>\n",
              "  <tbody>\n",
              "    <tr>\n",
              "      <th>0</th>\n",
              "      <td>-0.514421</td>\n",
              "      <td>1.617979</td>\n",
              "      <td>1.0</td>\n",
              "    </tr>\n",
              "    <tr>\n",
              "      <th>1</th>\n",
              "      <td>-0.128164</td>\n",
              "      <td>0.665145</td>\n",
              "      <td>1.0</td>\n",
              "    </tr>\n",
              "    <tr>\n",
              "      <th>2</th>\n",
              "      <td>-0.458545</td>\n",
              "      <td>1.178718</td>\n",
              "      <td>1.0</td>\n",
              "    </tr>\n",
              "    <tr>\n",
              "      <th>3</th>\n",
              "      <td>0.996855</td>\n",
              "      <td>3.149300</td>\n",
              "      <td>1.0</td>\n",
              "    </tr>\n",
              "    <tr>\n",
              "      <th>4</th>\n",
              "      <td>-0.753060</td>\n",
              "      <td>-0.674154</td>\n",
              "      <td>1.0</td>\n",
              "    </tr>\n",
              "  </tbody>\n",
              "</table>\n",
              "</div>\n",
              "      <button class=\"colab-df-convert\" onclick=\"convertToInteractive('df-404735bf-afa0-4755-806f-9e965d27f9c1')\"\n",
              "              title=\"Convert this dataframe to an interactive table.\"\n",
              "              style=\"display:none;\">\n",
              "        \n",
              "  <svg xmlns=\"http://www.w3.org/2000/svg\" height=\"24px\"viewBox=\"0 0 24 24\"\n",
              "       width=\"24px\">\n",
              "    <path d=\"M0 0h24v24H0V0z\" fill=\"none\"/>\n",
              "    <path d=\"M18.56 5.44l.94 2.06.94-2.06 2.06-.94-2.06-.94-.94-2.06-.94 2.06-2.06.94zm-11 1L8.5 8.5l.94-2.06 2.06-.94-2.06-.94L8.5 2.5l-.94 2.06-2.06.94zm10 10l.94 2.06.94-2.06 2.06-.94-2.06-.94-.94-2.06-.94 2.06-2.06.94z\"/><path d=\"M17.41 7.96l-1.37-1.37c-.4-.4-.92-.59-1.43-.59-.52 0-1.04.2-1.43.59L10.3 9.45l-7.72 7.72c-.78.78-.78 2.05 0 2.83L4 21.41c.39.39.9.59 1.41.59.51 0 1.02-.2 1.41-.59l7.78-7.78 2.81-2.81c.8-.78.8-2.07 0-2.86zM5.41 20L4 18.59l7.72-7.72 1.47 1.35L5.41 20z\"/>\n",
              "  </svg>\n",
              "      </button>\n",
              "      \n",
              "  <style>\n",
              "    .colab-df-container {\n",
              "      display:flex;\n",
              "      flex-wrap:wrap;\n",
              "      gap: 12px;\n",
              "    }\n",
              "\n",
              "    .colab-df-convert {\n",
              "      background-color: #E8F0FE;\n",
              "      border: none;\n",
              "      border-radius: 50%;\n",
              "      cursor: pointer;\n",
              "      display: none;\n",
              "      fill: #1967D2;\n",
              "      height: 32px;\n",
              "      padding: 0 0 0 0;\n",
              "      width: 32px;\n",
              "    }\n",
              "\n",
              "    .colab-df-convert:hover {\n",
              "      background-color: #E2EBFA;\n",
              "      box-shadow: 0px 1px 2px rgba(60, 64, 67, 0.3), 0px 1px 3px 1px rgba(60, 64, 67, 0.15);\n",
              "      fill: #174EA6;\n",
              "    }\n",
              "\n",
              "    [theme=dark] .colab-df-convert {\n",
              "      background-color: #3B4455;\n",
              "      fill: #D2E3FC;\n",
              "    }\n",
              "\n",
              "    [theme=dark] .colab-df-convert:hover {\n",
              "      background-color: #434B5C;\n",
              "      box-shadow: 0px 1px 3px 1px rgba(0, 0, 0, 0.15);\n",
              "      filter: drop-shadow(0px 1px 2px rgba(0, 0, 0, 0.3));\n",
              "      fill: #FFFFFF;\n",
              "    }\n",
              "  </style>\n",
              "\n",
              "      <script>\n",
              "        const buttonEl =\n",
              "          document.querySelector('#df-404735bf-afa0-4755-806f-9e965d27f9c1 button.colab-df-convert');\n",
              "        buttonEl.style.display =\n",
              "          google.colab.kernel.accessAllowed ? 'block' : 'none';\n",
              "\n",
              "        async function convertToInteractive(key) {\n",
              "          const element = document.querySelector('#df-404735bf-afa0-4755-806f-9e965d27f9c1');\n",
              "          const dataTable =\n",
              "            await google.colab.kernel.invokeFunction('convertToInteractive',\n",
              "                                                     [key], {});\n",
              "          if (!dataTable) return;\n",
              "\n",
              "          const docLinkHtml = 'Like what you see? Visit the ' +\n",
              "            '<a target=\"_blank\" href=https://colab.research.google.com/notebooks/data_table.ipynb>data table notebook</a>'\n",
              "            + ' to learn more about interactive tables.';\n",
              "          element.innerHTML = '';\n",
              "          dataTable['output_type'] = 'display_data';\n",
              "          await google.colab.output.renderOutput(dataTable, element);\n",
              "          const docLink = document.createElement('div');\n",
              "          docLink.innerHTML = docLinkHtml;\n",
              "          element.appendChild(docLink);\n",
              "        }\n",
              "      </script>\n",
              "    </div>\n",
              "  </div>\n",
              "  "
            ],
            "text/plain": [
              "   Feature 1  Feature 2  Class\n",
              "0  -0.514421   1.617979    1.0\n",
              "1  -0.128164   0.665145    1.0\n",
              "2  -0.458545   1.178718    1.0\n",
              "3   0.996855   3.149300    1.0\n",
              "4  -0.753060  -0.674154    1.0"
            ]
          },
          "metadata": {},
          "execution_count": 7
        }
      ]
    },
    {
      "cell_type": "markdown",
      "source": [
        "## Plot Dataset"
      ],
      "metadata": {
        "id": "Wml00FswhoNr"
      }
    },
    {
      "cell_type": "code",
      "source": [
        "grouped = dataset.groupby(['Class'])\n",
        "for name, group in grouped:\n",
        "  plt.plot(group['Feature 1'], group['Feature 2'], '.')\n",
        "\n",
        "plt.axis('equal');"
      ],
      "metadata": {
        "colab": {
          "base_uri": "https://localhost:8080/",
          "height": 54
        },
        "id": "QcKcyqQPyisi",
        "outputId": "04517f4f-b555-4e82-a8f1-e345beee8ee5"
      },
      "execution_count": 8,
      "outputs": [
        {
          "output_type": "display_data",
          "data": {
            "image/png": "[encoded data removed]",
            "text/plain": [
              "<Figure size 432x288 with 1 Axes>"
            ]
          },
          "metadata": {
            "needs_background": "light"
          }
        }
      ]
    },
    {
      "cell_type": "markdown",
      "metadata": {
        "id": "K8bV6VY6QAQV"
      },
      "source": [
        "## Train & Classification\n",
        "All data is used to train model"
      ]
    },
    {
      "cell_type": "code",
      "source": [
        "params = train_model(dataset)"
      ],
      "metadata": {
        "id": "i40dOGGr6ksR"
      },
      "execution_count": 9,
      "outputs": []
    },
    {
      "cell_type": "code",
      "metadata": {
        "id": "li9c6WOLQAQW"
      },
      "source": [
        "feature_columns = dataset.columns[dataset.columns != 'Class']\n",
        "samples = dataset.loc[:, feature_columns]\n",
        "predicted_labels = classify(samples, params)"
      ],
      "execution_count": 10,
      "outputs": []
    },
    {
      "cell_type": "markdown",
      "metadata": {
        "id": "Rq5i5bCWQAQX"
      },
      "source": [
        "## Confustion Matrix"
      ]
    },
    {
      "cell_type": "code",
      "metadata": {
        "id": "Z3Kl4W7AQAQY",
        "colab": {
          "base_uri": "https://localhost:8080/",
          "height": 131
        },
        "outputId": "7bc365c7-00eb-4a8c-b6f3-e197233c5744"
      },
      "source": [
        "confusion_matrix = get_confusion_matrix(dataset['Class'], predicted_labels)\n",
        "print('Rows is predicted labels and Columns is true labels')\n",
        "confusion_matrix"
      ],
      "execution_count": 11,
      "outputs": [
        {
          "output_type": "stream",
          "name": "stdout",
          "text": [
            "Rows is predicted labels and Columns is true labels\n"
          ]
        },
        {
          "output_type": "execute_result",
          "data": {
            "text/html": [
              "\n",
              "  <div id=\"df-75eaf9e7-e8e8-4baf-8a43-3553d0225e0f\">\n",
              "    <div class=\"colab-df-container\">\n",
              "      <div>\n",
              "<style scoped>\n",
              "    .dataframe tbody tr th:only-of-type {\n",
              "        vertical-align: middle;\n",
              "    }\n",
              "\n",
              "    .dataframe tbody tr th {\n",
              "        vertical-align: top;\n",
              "    }\n",
              "\n",
              "    .dataframe thead th {\n",
              "        text-align: right;\n",
              "    }\n",
              "</style>\n",
              "<table border=\"1\" class=\"dataframe\">\n",
              "  <thead>\n",
              "    <tr style=\"text-align: right;\">\n",
              "      <th></th>\n",
              "      <th>1.0</th>\n",
              "      <th>2.0</th>\n",
              "    </tr>\n",
              "  </thead>\n",
              "  <tbody>\n",
              "    <tr>\n",
              "      <th>1</th>\n",
              "      <td>488</td>\n",
              "      <td>7</td>\n",
              "    </tr>\n",
              "    <tr>\n",
              "      <th>2</th>\n",
              "      <td>12</td>\n",
              "      <td>493</td>\n",
              "    </tr>\n",
              "  </tbody>\n",
              "</table>\n",
              "</div>\n",
              "      <button class=\"colab-df-convert\" onclick=\"convertToInteractive('df-75eaf9e7-e8e8-4baf-8a43-3553d0225e0f')\"\n",
              "              title=\"Convert this dataframe to an interactive table.\"\n",
              "              style=\"display:none;\">\n",
              "        \n",
              "  <svg xmlns=\"http://www.w3.org/2000/svg\" height=\"24px\"viewBox=\"0 0 24 24\"\n",
              "       width=\"24px\">\n",
              "    <path d=\"M0 0h24v24H0V0z\" fill=\"none\"/>\n",
              "    <path d=\"M18.56 5.44l.94 2.06.94-2.06 2.06-.94-2.06-.94-.94-2.06-.94 2.06-2.06.94zm-11 1L8.5 8.5l.94-2.06 2.06-.94-2.06-.94L8.5 2.5l-.94 2.06-2.06.94zm10 10l.94 2.06.94-2.06 2.06-.94-2.06-.94-.94-2.06-.94 2.06-2.06.94z\"/><path d=\"M17.41 7.96l-1.37-1.37c-.4-.4-.92-.59-1.43-.59-.52 0-1.04.2-1.43.59L10.3 9.45l-7.72 7.72c-.78.78-.78 2.05 0 2.83L4 21.41c.39.39.9.59 1.41.59.51 0 1.02-.2 1.41-.59l7.78-7.78 2.81-2.81c.8-.78.8-2.07 0-2.86zM5.41 20L4 18.59l7.72-7.72 1.47 1.35L5.41 20z\"/>\n",
              "  </svg>\n",
              "      </button>\n",
              "      \n",
              "  <style>\n",
              "    .colab-df-container {\n",
              "      display:flex;\n",
              "      flex-wrap:wrap;\n",
              "      gap: 12px;\n",
              "    }\n",
              "\n",
              "    .colab-df-convert {\n",
              "      background-color: #E8F0FE;\n",
              "      border: none;\n",
              "      border-radius: 50%;\n",
              "      cursor: pointer;\n",
              "      display: none;\n",
              "      fill: #1967D2;\n",
              "      height: 32px;\n",
              "      padding: 0 0 0 0;\n",
              "      width: 32px;\n",
              "    }\n",
              "\n",
              "    .colab-df-convert:hover {\n",
              "      background-color: #E2EBFA;\n",
              "      box-shadow: 0px 1px 2px rgba(60, 64, 67, 0.3), 0px 1px 3px 1px rgba(60, 64, 67, 0.15);\n",
              "      fill: #174EA6;\n",
              "    }\n",
              "\n",
              "    [theme=dark] .colab-df-convert {\n",
              "      background-color: #3B4455;\n",
              "      fill: #D2E3FC;\n",
              "    }\n",
              "\n",
              "    [theme=dark] .colab-df-convert:hover {\n",
              "      background-color: #434B5C;\n",
              "      box-shadow: 0px 1px 3px 1px rgba(0, 0, 0, 0.15);\n",
              "      filter: drop-shadow(0px 1px 2px rgba(0, 0, 0, 0.3));\n",
              "      fill: #FFFFFF;\n",
              "    }\n",
              "  </style>\n",
              "\n",
              "      <script>\n",
              "        const buttonEl =\n",
              "          document.querySelector('#df-75eaf9e7-e8e8-4baf-8a43-3553d0225e0f button.colab-df-convert');\n",
              "        buttonEl.style.display =\n",
              "          google.colab.kernel.accessAllowed ? 'block' : 'none';\n",
              "\n",
              "        async function convertToInteractive(key) {\n",
              "          const element = document.querySelector('#df-75eaf9e7-e8e8-4baf-8a43-3553d0225e0f');\n",
              "          const dataTable =\n",
              "            await google.colab.kernel.invokeFunction('convertToInteractive',\n",
              "                                                     [key], {});\n",
              "          if (!dataTable) return;\n",
              "\n",
              "          const docLinkHtml = 'Like what you see? Visit the ' +\n",
              "            '<a target=\"_blank\" href=https://colab.research.google.com/notebooks/data_table.ipynb>data table notebook</a>'\n",
              "            + ' to learn more about interactive tables.';\n",
              "          element.innerHTML = '';\n",
              "          dataTable['output_type'] = 'display_data';\n",
              "          await google.colab.output.renderOutput(dataTable, element);\n",
              "          const docLink = document.createElement('div');\n",
              "          docLink.innerHTML = docLinkHtml;\n",
              "          element.appendChild(docLink);\n",
              "        }\n",
              "      </script>\n",
              "    </div>\n",
              "  </div>\n",
              "  "
            ],
            "text/plain": [
              "   1.0  2.0\n",
              "1  488    7\n",
              "2   12  493"
            ]
          },
          "metadata": {},
          "execution_count": 11
        }
      ]
    },
    {
      "cell_type": "code",
      "metadata": {
        "id": "EL66_ruQQAQb",
        "colab": {
          "base_uri": "https://localhost:8080/"
        },
        "outputId": "ed74ddd3-939b-4423-b542-6ffd69d8121b"
      },
      "source": [
        "accuracies = evaluate_model(confusion_matrix)\n",
        "print(f'Total Accuracy {accuracies[0]:.0%}')\n",
        "for idx, accuracy in enumerate(accuracies[1:]):\n",
        "  print(f'Accuracy Class {idx+1} {accuracy:.0%}')"
      ],
      "execution_count": 12,
      "outputs": [
        {
          "output_type": "stream",
          "name": "stdout",
          "text": [
            "Total Accuracy 98%\n",
            "Accuracy Class 1 98%\n",
            "Accuracy Class 2 99%\n"
          ]
        }
      ]
    },
    {
      "cell_type": "markdown",
      "metadata": {
        "id": "i8z6s6ddGGgV"
      },
      "source": [
        "# Haberman's Survival Data\n",
        "\n",
        "Relevant Information:\n",
        "   The dataset contains cases from a study that was conducted between\n",
        "   1958 and 1970 at the University of Chicago's Billings Hospital on\n",
        "   the survival of patients who had undergone surgery for breast\n",
        "   cancer.\n",
        "\n",
        "Number of Instances: 306\n",
        "\n",
        "Number of Attributes: 4 (including the class attribute)\n",
        "\n",
        "Attribute Information:\n",
        "   1. Age of patient at time of operation (numerical)\n",
        "   2. Patient's year of operation (year - 1900, numerical)\n",
        "   3. Number of positive axillary nodes detected (numerical)\n",
        "   4. Survival status (class attribute)\n",
        "         1 = the patient survived 5 years or longer\n",
        "         2 = the patient died within 5 year\n",
        "\n",
        "Missing Attribute Values: None"
      ]
    },
    {
      "cell_type": "code",
      "metadata": {
        "id": "USN-kkgypXyE",
        "colab": {
          "base_uri": "https://localhost:8080/",
          "height": 206
        },
        "outputId": "9732c1b6-7b87-4ec0-e4a0-db2fe06c182a"
      },
      "source": [
        "dataset = pd.read_csv('/content/drive/MyDrive/Colab Notebooks/Pattern Recognition/Dataset/Haberman/haberman.data', sep=',', header=None)\n",
        "dataset.columns = ['Feature 1', 'Feature 2', 'Feature 3', 'Class']\n",
        "dataset.head()"
      ],
      "execution_count": 13,
      "outputs": [
        {
          "output_type": "execute_result",
          "data": {
            "text/html": [
              "\n",
              "  <div id=\"df-cc82a975-a9d1-43ac-9fed-907500fa1628\">\n",
              "    <div class=\"colab-df-container\">\n",
              "      <div>\n",
              "<style scoped>\n",
              "    .dataframe tbody tr th:only-of-type {\n",
              "        vertical-align: middle;\n",
              "    }\n",
              "\n",
              "    .dataframe tbody tr th {\n",
              "        vertical-align: top;\n",
              "    }\n",
              "\n",
              "    .dataframe thead th {\n",
              "        text-align: right;\n",
              "    }\n",
              "</style>\n",
              "<table border=\"1\" class=\"dataframe\">\n",
              "  <thead>\n",
              "    <tr style=\"text-align: right;\">\n",
              "      <th></th>\n",
              "      <th>Feature 1</th>\n",
              "      <th>Feature 2</th>\n",
              "      <th>Feature 3</th>\n",
              "      <th>Class</th>\n",
              "    </tr>\n",
              "  </thead>\n",
              "  <tbody>\n",
              "    <tr>\n",
              "      <th>0</th>\n",
              "      <td>30</td>\n",
              "      <td>64</td>\n",
              "      <td>1</td>\n",
              "      <td>1</td>\n",
              "    </tr>\n",
              "    <tr>\n",
              "      <th>1</th>\n",
              "      <td>30</td>\n",
              "      <td>62</td>\n",
              "      <td>3</td>\n",
              "      <td>1</td>\n",
              "    </tr>\n",
              "    <tr>\n",
              "      <th>2</th>\n",
              "      <td>30</td>\n",
              "      <td>65</td>\n",
              "      <td>0</td>\n",
              "      <td>1</td>\n",
              "    </tr>\n",
              "    <tr>\n",
              "      <th>3</th>\n",
              "      <td>31</td>\n",
              "      <td>59</td>\n",
              "      <td>2</td>\n",
              "      <td>1</td>\n",
              "    </tr>\n",
              "    <tr>\n",
              "      <th>4</th>\n",
              "      <td>31</td>\n",
              "      <td>65</td>\n",
              "      <td>4</td>\n",
              "      <td>1</td>\n",
              "    </tr>\n",
              "  </tbody>\n",
              "</table>\n",
              "</div>\n",
              "      <button class=\"colab-df-convert\" onclick=\"convertToInteractive('df-cc82a975-a9d1-43ac-9fed-907500fa1628')\"\n",
              "              title=\"Convert this dataframe to an interactive table.\"\n",
              "              style=\"display:none;\">\n",
              "        \n",
              "  <svg xmlns=\"http://www.w3.org/2000/svg\" height=\"24px\"viewBox=\"0 0 24 24\"\n",
              "       width=\"24px\">\n",
              "    <path d=\"M0 0h24v24H0V0z\" fill=\"none\"/>\n",
              "    <path d=\"M18.56 5.44l.94 2.06.94-2.06 2.06-.94-2.06-.94-.94-2.06-.94 2.06-2.06.94zm-11 1L8.5 8.5l.94-2.06 2.06-.94-2.06-.94L8.5 2.5l-.94 2.06-2.06.94zm10 10l.94 2.06.94-2.06 2.06-.94-2.06-.94-.94-2.06-.94 2.06-2.06.94z\"/><path d=\"M17.41 7.96l-1.37-1.37c-.4-.4-.92-.59-1.43-.59-.52 0-1.04.2-1.43.59L10.3 9.45l-7.72 7.72c-.78.78-.78 2.05 0 2.83L4 21.41c.39.39.9.59 1.41.59.51 0 1.02-.2 1.41-.59l7.78-7.78 2.81-2.81c.8-.78.8-2.07 0-2.86zM5.41 20L4 18.59l7.72-7.72 1.47 1.35L5.41 20z\"/>\n",
              "  </svg>\n",
              "      </button>\n",
              "      \n",
              "  <style>\n",
              "    .colab-df-container {\n",
              "      display:flex;\n",
              "      flex-wrap:wrap;\n",
              "      gap: 12px;\n",
              "    }\n",
              "\n",
              "    .colab-df-convert {\n",
              "      background-color: #E8F0FE;\n",
              "      border: none;\n",
              "      border-radius: 50%;\n",
              "      cursor: pointer;\n",
              "      display: none;\n",
              "      fill: #1967D2;\n",
              "      height: 32px;\n",
              "      padding: 0 0 0 0;\n",
              "      width: 32px;\n",
              "    }\n",
              "\n",
              "    .colab-df-convert:hover {\n",
              "      background-color: #E2EBFA;\n",
              "      box-shadow: 0px 1px 2px rgba(60, 64, 67, 0.3), 0px 1px 3px 1px rgba(60, 64, 67, 0.15);\n",
              "      fill: #174EA6;\n",
              "    }\n",
              "\n",
              "    [theme=dark] .colab-df-convert {\n",
              "      background-color: #3B4455;\n",
              "      fill: #D2E3FC;\n",
              "    }\n",
              "\n",
              "    [theme=dark] .colab-df-convert:hover {\n",
              "      background-color: #434B5C;\n",
              "      box-shadow: 0px 1px 3px 1px rgba(0, 0, 0, 0.15);\n",
              "      filter: drop-shadow(0px 1px 2px rgba(0, 0, 0, 0.3));\n",
              "      fill: #FFFFFF;\n",
              "    }\n",
              "  </style>\n",
              "\n",
              "      <script>\n",
              "        const buttonEl =\n",
              "          document.querySelector('#df-cc82a975-a9d1-43ac-9fed-907500fa1628 button.colab-df-convert');\n",
              "        buttonEl.style.display =\n",
              "          google.colab.kernel.accessAllowed ? 'block' : 'none';\n",
              "\n",
              "        async function convertToInteractive(key) {\n",
              "          const element = document.querySelector('#df-cc82a975-a9d1-43ac-9fed-907500fa1628');\n",
              "          const dataTable =\n",
              "            await google.colab.kernel.invokeFunction('convertToInteractive',\n",
              "                                                     [key], {});\n",
              "          if (!dataTable) return;\n",
              "\n",
              "          const docLinkHtml = 'Like what you see? Visit the ' +\n",
              "            '<a target=\"_blank\" href=https://colab.research.google.com/notebooks/data_table.ipynb>data table notebook</a>'\n",
              "            + ' to learn more about interactive tables.';\n",
              "          element.innerHTML = '';\n",
              "          dataTable['output_type'] = 'display_data';\n",
              "          await google.colab.output.renderOutput(dataTable, element);\n",
              "          const docLink = document.createElement('div');\n",
              "          docLink.innerHTML = docLinkHtml;\n",
              "          element.appendChild(docLink);\n",
              "        }\n",
              "      </script>\n",
              "    </div>\n",
              "  </div>\n",
              "  "
            ],
            "text/plain": [
              "   Feature 1  Feature 2  Feature 3  Class\n",
              "0         30         64          1      1\n",
              "1         30         62          3      1\n",
              "2         30         65          0      1\n",
              "3         31         59          2      1\n",
              "4         31         65          4      1"
            ]
          },
          "metadata": {},
          "execution_count": 13
        }
      ]
    },
    {
      "cell_type": "markdown",
      "source": [
        "## Plot Dataset"
      ],
      "metadata": {
        "id": "3X0_fkhziOrp"
      }
    },
    {
      "cell_type": "code",
      "source": [
        "grouped = dataset.groupby('Class')"
      ],
      "metadata": {
        "id": "ExYWwZa9mmJx"
      },
      "execution_count": 14,
      "outputs": []
    },
    {
      "cell_type": "code",
      "source": [
        "fig = plt.figure(figsize=(24, 6))\n",
        "plt.suptitle(\"Haberman's Survival\", fontsize=14)\n",
        "\n",
        "ax = fig.add_subplot(131)\n",
        "for name, group in grouped:\n",
        "  ax.scatter(group['Feature 1'], group['Feature 2']);\n",
        "plt.xlabel('Feature 1')\n",
        "plt.ylabel('Feature 2');\n",
        "\n",
        "ax = fig.add_subplot(132)\n",
        "for name, group in grouped:\n",
        "  ax.scatter(group['Feature 1'], group['Feature 3']);\n",
        "plt.xlabel('Feature 1')\n",
        "plt.ylabel('Feature 3');\n",
        "\n",
        "ax = fig.add_subplot(133)\n",
        "for name, group in grouped:\n",
        "  ax.scatter(group['Feature 2'], group['Feature 3']);\n",
        "plt.xlabel('Feature 2')\n",
        "plt.ylabel('Feature 3');"
      ],
      "metadata": {
        "id": "r4TVFxdEnQB6",
        "colab": {
          "base_uri": "https://localhost:8080/",
          "height": 431
        },
        "outputId": "692f01d5-a779-4999-e9f0-d76303fdf52f"
      },
      "execution_count": 15,
      "outputs": [
        {
          "output_type": "display_data",
          "data": {
            "image/png": "[encoded data removed]",
            "text/plain": [
              "<Figure size 1728x432 with 3 Axes>"
            ]
          },
          "metadata": {
            "needs_background": "light"
          }
        }
      ]
    },
    {
      "cell_type": "code",
      "source": [
        "fig = px.scatter_3d(x=dataset['Feature 1'], y=dataset['Feature 2'], z=dataset['Feature 3'], color=dataset['Class'].astype(str),\n",
        "                    labels={'x': \"Feature 1\", 'y': \"Feature 2\", 'z': \"Feature 3\"})\n",
        "fig.update_traces(marker=dict(size=4, line=dict(width=0.5, color='DarkSlateGrey')),\n",
        "                  selector=dict(mode='markers'))\n",
        "fig.show()"
      ],
      "metadata": {
        "id": "YDojmTdOg1zy",
        "colab": {
          "base_uri": "https://localhost:8080/",
          "height": 542
        },
        "outputId": "88acdcc0-673c-484a-d803-8d0437d6ef17"
      },
      "execution_count": 16,
      "outputs": [
        {
          "output_type": "display_data",
          "data": {
            "text/html": [
              "<html>\n",
              "<head><meta charset=\"utf-8\" /></head>\n",
              "<body>\n",
              "    <div>            <script src=\"https://cdnjs.cloudflare.com/ajax/libs/mathjax/2.7.5/MathJax.js?config=TeX-AMS-MML_SVG\"></script><script type=\"text/javascript\">if (window.MathJax) {MathJax.Hub.Config({SVG: {font: \"STIX-Web\"}});}</script>                <script type=\"text/javascript\">window.PlotlyConfig = {MathJaxConfig: 'local'};</script>\n",
              "        <script src=\"https://cdn.plot.ly/plotly-2.8.3.min.js\"></script>                <div id=\"0df7e8b9-3d98-49d0-8e18-d5fc2a286b27\" class=\"plotly-graph-div\" style=\"height:525px; width:100%;\"></div>            <script type=\"text/javascript\">                                    window.PLOTLYENV=window.PLOTLYENV || {};                                    if (document.getElementById(\"0df7e8b9-3d98-49d0-8e18-d5fc2a286b27\")) {                    Plotly.newPlot(                        \"0df7e8b9-3d98-49d0-8e18-d5fc2a286b27\",                        [{\"hovertemplate\":\"color=1<br>Feature 1=%{x}<br>Feature 2=%{y}<br>Feature 3=%{z}<extra></extra>\",\"legendgroup\":\"1\",\"marker\":{\"color\":\"#636efa\",\"symbol\":\"circle\",\"line\":{\"color\":\"DarkSlateGrey\",\"width\":0.5},\"size\":4},\"mode\":\"markers\",\"name\":\"1\",\"scene\":\"scene\",\"showlegend\":true,\"x\":[30,30,30,31,31,33,33,34,34,34,34,34,35,35,36,36,37,37,37,37,37,37,38,38,38,38,38,38,38,38,38,39,39,39,39,39,40,40,40,41,41,41,41,41,41,41,42,42,42,42,42,42,42,43,43,43,43,43,43,43,44,44,44,44,45,45,45,45,45,45,46,46,46,47,47,47,47,47,47,47,47,48,48,48,48,49,49,49,49,49,49,49,49,50,50,50,50,50,50,50,50,50,50,51,51,51,51,52,52,52,52,52,52,52,52,52,52,53,53,53,53,53,54,54,54,54,54,54,54,54,54,55,55,55,55,55,55,55,55,56,56,56,56,56,57,57,57,57,57,57,57,57,58,58,58,58,58,58,58,59,59,59,59,59,59,59,60,60,60,60,61,61,61,61,61,61,62,62,62,62,63,63,63,63,63,63,63,64,64,64,64,64,65,65,65,65,65,65,66,66,66,67,67,67,67,68,68,69,69,69,70,70,70,70,70,71,72,72,72,73,73,74,75,76,77],\"y\":[64,62,65,59,65,58,60,58,60,61,67,60,64,63,60,69,60,63,58,59,60,63,59,60,60,62,64,66,66,60,67,63,67,58,59,63,58,58,65,58,59,59,64,69,65,65,58,60,59,61,62,65,63,63,64,64,60,63,65,66,61,63,61,67,60,67,59,64,68,67,62,58,63,61,63,66,67,58,60,68,66,61,62,64,66,61,62,66,60,62,63,61,67,59,61,61,63,58,59,61,64,65,66,64,59,65,66,61,63,69,60,60,62,62,64,65,68,58,60,60,61,63,59,60,66,67,62,69,63,58,62,58,58,58,66,66,69,69,67,60,66,66,67,60,64,69,61,62,63,64,64,67,59,60,61,67,58,58,61,60,63,64,64,64,64,67,61,67,61,64,59,59,64,65,68,59,62,66,66,58,61,62,63,63,66,61,61,58,65,66,61,68,58,64,67,59,64,67,58,58,68,66,66,61,65,67,68,60,65,66,66,67,68,59,63,68,58,64,67,62,68,63,62,67,65],\"z\":[1,3,0,2,4,10,0,30,1,10,7,0,13,0,1,0,0,0,0,6,15,0,2,0,0,3,1,0,11,1,5,0,0,0,2,4,2,0,0,0,8,0,0,8,0,0,0,1,2,4,20,0,1,14,2,3,0,2,0,4,0,1,0,16,0,0,14,0,0,1,0,3,0,0,6,0,0,3,4,4,12,8,2,0,0,1,0,0,1,1,3,0,1,0,6,0,1,1,2,0,0,4,1,7,1,0,1,0,4,0,4,5,0,1,0,0,0,1,1,2,1,0,7,3,0,46,0,7,19,1,0,1,0,1,18,0,3,22,1,0,2,1,0,0,9,0,0,0,0,0,0,0,0,3,1,0,0,3,2,0,0,1,4,0,7,3,1,2,25,0,0,0,0,8,0,0,6,0,0,0,0,0,0,0,0,9,28,0,22,0,0,0,0,0,0,2,0,1,0,1,0,0,0,0,0,0,0,0,0,0,14,0,0,8,0,2,0,0,3,0,0,0,1,0,3],\"type\":\"scatter3d\"},{\"hovertemplate\":\"color=2<br>Feature 1=%{x}<br>Feature 2=%{y}<br>Feature 3=%{z}<extra></extra>\",\"legendgroup\":\"2\",\"marker\":{\"color\":\"#EF553B\",\"symbol\":\"circle\",\"line\":{\"color\":\"DarkSlateGrey\",\"width\":0.5},\"size\":4},\"mode\":\"markers\",\"name\":\"2\",\"scene\":\"scene\",\"showlegend\":true,\"x\":[34,34,38,39,41,41,41,42,42,43,43,43,43,44,44,44,45,45,45,46,46,46,46,47,47,47,48,48,48,49,49,50,50,51,51,52,52,52,52,53,53,53,53,53,53,54,54,54,54,55,55,56,56,57,57,57,59,60,60,61,61,61,62,62,62,63,65,65,65,65,66,66,67,67,69,70,70,72,74,78,83],\"y\":[59,66,69,66,60,64,67,69,59,58,59,64,64,64,58,63,65,66,67,58,69,62,65,63,62,65,58,58,67,63,64,63,64,59,59,69,59,62,66,58,65,59,60,63,65,60,65,65,68,63,68,65,66,61,62,64,62,59,65,62,65,68,59,58,65,60,58,61,62,66,58,61,64,63,67,58,58,63,65,65,58],\"z\":[0,9,21,0,23,0,0,1,0,52,2,0,0,6,9,19,6,0,1,2,3,5,20,23,0,0,11,11,7,0,10,13,0,13,3,3,2,3,4,4,1,3,9,24,12,11,23,5,7,6,15,9,3,5,14,1,35,17,0,5,0,1,13,0,19,1,0,2,22,15,0,13,8,1,8,0,4,0,3,1,2],\"type\":\"scatter3d\"}],                        {\"template\":{\"data\":{\"bar\":[{\"error_x\":{\"color\":\"#2a3f5f\"},\"error_y\":{\"color\":\"#2a3f5f\"},\"marker\":{\"line\":{\"color\":\"#E5ECF6\",\"width\":0.5},\"pattern\":{\"fillmode\":\"overlay\",\"size\":10,\"solidity\":0.2}},\"type\":\"bar\"}],\"barpolar\":[{\"marker\":{\"line\":{\"color\":\"#E5ECF6\",\"width\":0.5},\"pattern\":{\"fillmode\":\"overlay\",\"size\":10,\"solidity\":0.2}},\"type\":\"barpolar\"}],\"carpet\":[{\"aaxis\":{\"endlinecolor\":\"#2a3f5f\",\"gridcolor\":\"white\",\"linecolor\":\"white\",\"minorgridcolor\":\"white\",\"startlinecolor\":\"#2a3f5f\"},\"baxis\":{\"endlinecolor\":\"#2a3f5f\",\"gridcolor\":\"white\",\"linecolor\":\"white\",\"minorgridcolor\":\"white\",\"startlinecolor\":\"#2a3f5f\"},\"type\":\"carpet\"}],\"choropleth\":[{\"colorbar\":{\"outlinewidth\":0,\"ticks\":\"\"},\"type\":\"choropleth\"}],\"contour\":[{\"colorbar\":{\"outlinewidth\":0,\"ticks\":\"\"},\"colorscale\":[[0.0,\"#0d0887\"],[0.1111111111111111,\"#46039f\"],[0.2222222222222222,\"#7201a8\"],[0.3333333333333333,\"#9c179e\"],[0.4444444444444444,\"#bd3786\"],[0.5555555555555556,\"#d8576b\"],[0.6666666666666666,\"#ed7953\"],[0.7777777777777778,\"#fb9f3a\"],[0.8888888888888888,\"#fdca26\"],[1.0,\"#f0f921\"]],\"type\":\"contour\"}],\"contourcarpet\":[{\"colorbar\":{\"outlinewidth\":0,\"ticks\":\"\"},\"type\":\"contourcarpet\"}],\"heatmap\":[{\"colorbar\":{\"outlinewidth\":0,\"ticks\":\"\"},\"colorscale\":[[0.0,\"#0d0887\"],[0.1111111111111111,\"#46039f\"],[0.2222222222222222,\"#7201a8\"],[0.3333333333333333,\"#9c179e\"],[0.4444444444444444,\"#bd3786\"],[0.5555555555555556,\"#d8576b\"],[0.6666666666666666,\"#ed7953\"],[0.7777777777777778,\"#fb9f3a\"],[0.8888888888888888,\"#fdca26\"],[1.0,\"#f0f921\"]],\"type\":\"heatmap\"}],\"heatmapgl\":[{\"colorbar\":{\"outlinewidth\":0,\"ticks\":\"\"},\"colorscale\":[[0.0,\"#0d0887\"],[0.1111111111111111,\"#46039f\"],[0.2222222222222222,\"#7201a8\"],[0.3333333333333333,\"#9c179e\"],[0.4444444444444444,\"#bd3786\"],[0.5555555555555556,\"#d8576b\"],[0.6666666666666666,\"#ed7953\"],[0.7777777777777778,\"#fb9f3a\"],[0.8888888888888888,\"#fdca26\"],[1.0,\"#f0f921\"]],\"type\":\"heatmapgl\"}],\"histogram\":[{\"marker\":{\"pattern\":{\"fillmode\":\"overlay\",\"size\":10,\"solidity\":0.2}},\"type\":\"histogram\"}],\"histogram2d\":[{\"colorbar\":{\"outlinewidth\":0,\"ticks\":\"\"},\"colorscale\":[[0.0,\"#0d0887\"],[0.1111111111111111,\"#46039f\"],[0.2222222222222222,\"#7201a8\"],[0.3333333333333333,\"#9c179e\"],[0.4444444444444444,\"#bd3786\"],[0.5555555555555556,\"#d8576b\"],[0.6666666666666666,\"#ed7953\"],[0.7777777777777778,\"#fb9f3a\"],[0.8888888888888888,\"#fdca26\"],[1.0,\"#f0f921\"]],\"type\":\"histogram2d\"}],\"histogram2dcontour\":[{\"colorbar\":{\"outlinewidth\":0,\"ticks\":\"\"},\"colorscale\":[[0.0,\"#0d0887\"],[0.1111111111111111,\"#46039f\"],[0.2222222222222222,\"#7201a8\"],[0.3333333333333333,\"#9c179e\"],[0.4444444444444444,\"#bd3786\"],[0.5555555555555556,\"#d8576b\"],[0.6666666666666666,\"#ed7953\"],[0.7777777777777778,\"#fb9f3a\"],[0.8888888888888888,\"#fdca26\"],[1.0,\"#f0f921\"]],\"type\":\"histogram2dcontour\"}],\"mesh3d\":[{\"colorbar\":{\"outlinewidth\":0,\"ticks\":\"\"},\"type\":\"mesh3d\"}],\"parcoords\":[{\"line\":{\"colorbar\":{\"outlinewidth\":0,\"ticks\":\"\"}},\"type\":\"parcoords\"}],\"pie\":[{\"automargin\":true,\"type\":\"pie\"}],\"scatter\":[{\"marker\":{\"colorbar\":{\"outlinewidth\":0,\"ticks\":\"\"}},\"type\":\"scatter\"}],\"scatter3d\":[{\"line\":{\"colorbar\":{\"outlinewidth\":0,\"ticks\":\"\"}},\"marker\":{\"colorbar\":{\"outlinewidth\":0,\"ticks\":\"\"}},\"type\":\"scatter3d\"}],\"scattercarpet\":[{\"marker\":{\"colorbar\":{\"outlinewidth\":0,\"ticks\":\"\"}},\"type\":\"scattercarpet\"}],\"scattergeo\":[{\"marker\":{\"colorbar\":{\"outlinewidth\":0,\"ticks\":\"\"}},\"type\":\"scattergeo\"}],\"scattergl\":[{\"marker\":{\"colorbar\":{\"outlinewidth\":0,\"ticks\":\"\"}},\"type\":\"scattergl\"}],\"scattermapbox\":[{\"marker\":{\"colorbar\":{\"outlinewidth\":0,\"ticks\":\"\"}},\"type\":\"scattermapbox\"}],\"scatterpolar\":[{\"marker\":{\"colorbar\":{\"outlinewidth\":0,\"ticks\":\"\"}},\"type\":\"scatterpolar\"}],\"scatterpolargl\":[{\"marker\":{\"colorbar\":{\"outlinewidth\":0,\"ticks\":\"\"}},\"type\":\"scatterpolargl\"}],\"scatterternary\":[{\"marker\":{\"colorbar\":{\"outlinewidth\":0,\"ticks\":\"\"}},\"type\":\"scatterternary\"}],\"surface\":[{\"colorbar\":{\"outlinewidth\":0,\"ticks\":\"\"},\"colorscale\":[[0.0,\"#0d0887\"],[0.1111111111111111,\"#46039f\"],[0.2222222222222222,\"#7201a8\"],[0.3333333333333333,\"#9c179e\"],[0.4444444444444444,\"#bd3786\"],[0.5555555555555556,\"#d8576b\"],[0.6666666666666666,\"#ed7953\"],[0.7777777777777778,\"#fb9f3a\"],[0.8888888888888888,\"#fdca26\"],[1.0,\"#f0f921\"]],\"type\":\"surface\"}],\"table\":[{\"cells\":{\"fill\":{\"color\":\"#EBF0F8\"},\"line\":{\"color\":\"white\"}},\"header\":{\"fill\":{\"color\":\"#C8D4E3\"},\"line\":{\"color\":\"white\"}},\"type\":\"table\"}]},\"layout\":{\"annotationdefaults\":{\"arrowcolor\":\"#2a3f5f\",\"arrowhead\":0,\"arrowwidth\":1},\"autotypenumbers\":\"strict\",\"coloraxis\":{\"colorbar\":{\"outlinewidth\":0,\"ticks\":\"\"}},\"colorscale\":{\"diverging\":[[0,\"#8e0152\"],[0.1,\"#c51b7d\"],[0.2,\"#de77ae\"],[0.3,\"#f1b6da\"],[0.4,\"#fde0ef\"],[0.5,\"#f7f7f7\"],[0.6,\"#e6f5d0\"],[0.7,\"#b8e186\"],[0.8,\"#7fbc41\"],[0.9,\"#4d9221\"],[1,\"#276419\"]],\"sequential\":[[0.0,\"#0d0887\"],[0.1111111111111111,\"#46039f\"],[0.2222222222222222,\"#7201a8\"],[0.3333333333333333,\"#9c179e\"],[0.4444444444444444,\"#bd3786\"],[0.5555555555555556,\"#d8576b\"],[0.6666666666666666,\"#ed7953\"],[0.7777777777777778,\"#fb9f3a\"],[0.8888888888888888,\"#fdca26\"],[1.0,\"#f0f921\"]],\"sequentialminus\":[[0.0,\"#0d0887\"],[0.1111111111111111,\"#46039f\"],[0.2222222222222222,\"#7201a8\"],[0.3333333333333333,\"#9c179e\"],[0.4444444444444444,\"#bd3786\"],[0.5555555555555556,\"#d8576b\"],[0.6666666666666666,\"#ed7953\"],[0.7777777777777778,\"#fb9f3a\"],[0.8888888888888888,\"#fdca26\"],[1.0,\"#f0f921\"]]},\"colorway\":[\"#636efa\",\"#EF553B\",\"#00cc96\",\"#ab63fa\",\"#FFA15A\",\"#19d3f3\",\"#FF6692\",\"#B6E880\",\"#FF97FF\",\"#FECB52\"],\"font\":{\"color\":\"#2a3f5f\"},\"geo\":{\"bgcolor\":\"white\",\"lakecolor\":\"white\",\"landcolor\":\"#E5ECF6\",\"showlakes\":true,\"showland\":true,\"subunitcolor\":\"white\"},\"hoverlabel\":{\"align\":\"left\"},\"hovermode\":\"closest\",\"mapbox\":{\"style\":\"light\"},\"paper_bgcolor\":\"white\",\"plot_bgcolor\":\"#E5ECF6\",\"polar\":{\"angularaxis\":{\"gridcolor\":\"white\",\"linecolor\":\"white\",\"ticks\":\"\"},\"bgcolor\":\"#E5ECF6\",\"radialaxis\":{\"gridcolor\":\"white\",\"linecolor\":\"white\",\"ticks\":\"\"}},\"scene\":{\"xaxis\":{\"backgroundcolor\":\"#E5ECF6\",\"gridcolor\":\"white\",\"gridwidth\":2,\"linecolor\":\"white\",\"showbackground\":true,\"ticks\":\"\",\"zerolinecolor\":\"white\"},\"yaxis\":{\"backgroundcolor\":\"#E5ECF6\",\"gridcolor\":\"white\",\"gridwidth\":2,\"linecolor\":\"white\",\"showbackground\":true,\"ticks\":\"\",\"zerolinecolor\":\"white\"},\"zaxis\":{\"backgroundcolor\":\"#E5ECF6\",\"gridcolor\":\"white\",\"gridwidth\":2,\"linecolor\":\"white\",\"showbackground\":true,\"ticks\":\"\",\"zerolinecolor\":\"white\"}},\"shapedefaults\":{\"line\":{\"color\":\"#2a3f5f\"}},\"ternary\":{\"aaxis\":{\"gridcolor\":\"white\",\"linecolor\":\"white\",\"ticks\":\"\"},\"baxis\":{\"gridcolor\":\"white\",\"linecolor\":\"white\",\"ticks\":\"\"},\"bgcolor\":\"#E5ECF6\",\"caxis\":{\"gridcolor\":\"white\",\"linecolor\":\"white\",\"ticks\":\"\"}},\"title\":{\"x\":0.05},\"xaxis\":{\"automargin\":true,\"gridcolor\":\"white\",\"linecolor\":\"white\",\"ticks\":\"\",\"title\":{\"standoff\":15},\"zerolinecolor\":\"white\",\"zerolinewidth\":2},\"yaxis\":{\"automargin\":true,\"gridcolor\":\"white\",\"linecolor\":\"white\",\"ticks\":\"\",\"title\":{\"standoff\":15},\"zerolinecolor\":\"white\",\"zerolinewidth\":2}}},\"scene\":{\"domain\":{\"x\":[0.0,1.0],\"y\":[0.0,1.0]},\"xaxis\":{\"title\":{\"text\":\"Feature 1\"}},\"yaxis\":{\"title\":{\"text\":\"Feature 2\"}},\"zaxis\":{\"title\":{\"text\":\"Feature 3\"}}},\"legend\":{\"title\":{\"text\":\"color\"},\"tracegroupgap\":0},\"margin\":{\"t\":60}},                        {\"responsive\": true}                    ).then(function(){\n",
              "                            \n",
              "var gd = document.getElementById('0df7e8b9-3d98-49d0-8e18-d5fc2a286b27');\n",
              "var x = new MutationObserver(function (mutations, observer) {{\n",
              "        var display = window.getComputedStyle(gd).display;\n",
              "        if (!display || display === 'none') {{\n",
              "            console.log([gd, 'removed!']);\n",
              "            Plotly.purge(gd);\n",
              "            observer.disconnect();\n",
              "        }}\n",
              "}});\n",
              "\n",
              "// Listen for the removal of the full notebook cells\n",
              "var notebookContainer = gd.closest('#notebook-container');\n",
              "if (notebookContainer) {{\n",
              "    x.observe(notebookContainer, {childList: true});\n",
              "}}\n",
              "\n",
              "// Listen for the clearing of the current output cell\n",
              "var outputEl = gd.closest('.output');\n",
              "if (outputEl) {{\n",
              "    x.observe(outputEl, {childList: true});\n",
              "}}\n",
              "\n",
              "                        })                };                            </script>        </div>\n",
              "</body>\n",
              "</html>"
            ]
          },
          "metadata": {}
        }
      ]
    },
    {
      "cell_type": "markdown",
      "metadata": {
        "id": "IHIp4mt8Gtnk"
      },
      "source": [
        "## Train & Classification\n",
        "All data is used to train model"
      ]
    },
    {
      "cell_type": "code",
      "source": [
        "params = train_model(dataset)"
      ],
      "metadata": {
        "id": "v6Fkfxwcud_X"
      },
      "execution_count": 17,
      "outputs": []
    },
    {
      "cell_type": "code",
      "metadata": {
        "id": "-enccIQcG-Pv"
      },
      "source": [
        "feature_columns = dataset.columns[dataset.columns != 'Class']\n",
        "samples = dataset.loc[:, feature_columns]\n",
        "predicted_labels = classify(samples, params)"
      ],
      "execution_count": 18,
      "outputs": []
    },
    {
      "cell_type": "markdown",
      "metadata": {
        "id": "lfVXpBZAKAm1"
      },
      "source": [
        "## Confustion Matrix"
      ]
    },
    {
      "cell_type": "code",
      "metadata": {
        "id": "rVVLnAtTUiTC",
        "colab": {
          "base_uri": "https://localhost:8080/",
          "height": 131
        },
        "outputId": "672ea123-e9f5-4b27-9379-847e0e68a88a"
      },
      "source": [
        "confusion_matrix = get_confusion_matrix(dataset['Class'], predicted_labels)\n",
        "print('Rows is predicted labels and Columns is true labels')\n",
        "confusion_matrix"
      ],
      "execution_count": 19,
      "outputs": [
        {
          "output_type": "stream",
          "name": "stdout",
          "text": [
            "Rows is predicted labels and Columns is true labels\n"
          ]
        },
        {
          "output_type": "execute_result",
          "data": {
            "text/html": [
              "\n",
              "  <div id=\"df-2564f243-6d98-4c93-83d3-dacd3fb7f365\">\n",
              "    <div class=\"colab-df-container\">\n",
              "      <div>\n",
              "<style scoped>\n",
              "    .dataframe tbody tr th:only-of-type {\n",
              "        vertical-align: middle;\n",
              "    }\n",
              "\n",
              "    .dataframe tbody tr th {\n",
              "        vertical-align: top;\n",
              "    }\n",
              "\n",
              "    .dataframe thead th {\n",
              "        text-align: right;\n",
              "    }\n",
              "</style>\n",
              "<table border=\"1\" class=\"dataframe\">\n",
              "  <thead>\n",
              "    <tr style=\"text-align: right;\">\n",
              "      <th></th>\n",
              "      <th>1</th>\n",
              "      <th>2</th>\n",
              "    </tr>\n",
              "  </thead>\n",
              "  <tbody>\n",
              "    <tr>\n",
              "      <th>1</th>\n",
              "      <td>160</td>\n",
              "      <td>30</td>\n",
              "    </tr>\n",
              "    <tr>\n",
              "      <th>2</th>\n",
              "      <td>65</td>\n",
              "      <td>51</td>\n",
              "    </tr>\n",
              "  </tbody>\n",
              "</table>\n",
              "</div>\n",
              "      <button class=\"colab-df-convert\" onclick=\"convertToInteractive('df-2564f243-6d98-4c93-83d3-dacd3fb7f365')\"\n",
              "              title=\"Convert this dataframe to an interactive table.\"\n",
              "              style=\"display:none;\">\n",
              "        \n",
              "  <svg xmlns=\"http://www.w3.org/2000/svg\" height=\"24px\"viewBox=\"0 0 24 24\"\n",
              "       width=\"24px\">\n",
              "    <path d=\"M0 0h24v24H0V0z\" fill=\"none\"/>\n",
              "    <path d=\"M18.56 5.44l.94 2.06.94-2.06 2.06-.94-2.06-.94-.94-2.06-.94 2.06-2.06.94zm-11 1L8.5 8.5l.94-2.06 2.06-.94-2.06-.94L8.5 2.5l-.94 2.06-2.06.94zm10 10l.94 2.06.94-2.06 2.06-.94-2.06-.94-.94-2.06-.94 2.06-2.06.94z\"/><path d=\"M17.41 7.96l-1.37-1.37c-.4-.4-.92-.59-1.43-.59-.52 0-1.04.2-1.43.59L10.3 9.45l-7.72 7.72c-.78.78-.78 2.05 0 2.83L4 21.41c.39.39.9.59 1.41.59.51 0 1.02-.2 1.41-.59l7.78-7.78 2.81-2.81c.8-.78.8-2.07 0-2.86zM5.41 20L4 18.59l7.72-7.72 1.47 1.35L5.41 20z\"/>\n",
              "  </svg>\n",
              "      </button>\n",
              "      \n",
              "  <style>\n",
              "    .colab-df-container {\n",
              "      display:flex;\n",
              "      flex-wrap:wrap;\n",
              "      gap: 12px;\n",
              "    }\n",
              "\n",
              "    .colab-df-convert {\n",
              "      background-color: #E8F0FE;\n",
              "      border: none;\n",
              "      border-radius: 50%;\n",
              "      cursor: pointer;\n",
              "      display: none;\n",
              "      fill: #1967D2;\n",
              "      height: 32px;\n",
              "      padding: 0 0 0 0;\n",
              "      width: 32px;\n",
              "    }\n",
              "\n",
              "    .colab-df-convert:hover {\n",
              "      background-color: #E2EBFA;\n",
              "      box-shadow: 0px 1px 2px rgba(60, 64, 67, 0.3), 0px 1px 3px 1px rgba(60, 64, 67, 0.15);\n",
              "      fill: #174EA6;\n",
              "    }\n",
              "\n",
              "    [theme=dark] .colab-df-convert {\n",
              "      background-color: #3B4455;\n",
              "      fill: #D2E3FC;\n",
              "    }\n",
              "\n",
              "    [theme=dark] .colab-df-convert:hover {\n",
              "      background-color: #434B5C;\n",
              "      box-shadow: 0px 1px 3px 1px rgba(0, 0, 0, 0.15);\n",
              "      filter: drop-shadow(0px 1px 2px rgba(0, 0, 0, 0.3));\n",
              "      fill: #FFFFFF;\n",
              "    }\n",
              "  </style>\n",
              "\n",
              "      <script>\n",
              "        const buttonEl =\n",
              "          document.querySelector('#df-2564f243-6d98-4c93-83d3-dacd3fb7f365 button.colab-df-convert');\n",
              "        buttonEl.style.display =\n",
              "          google.colab.kernel.accessAllowed ? 'block' : 'none';\n",
              "\n",
              "        async function convertToInteractive(key) {\n",
              "          const element = document.querySelector('#df-2564f243-6d98-4c93-83d3-dacd3fb7f365');\n",
              "          const dataTable =\n",
              "            await google.colab.kernel.invokeFunction('convertToInteractive',\n",
              "                                                     [key], {});\n",
              "          if (!dataTable) return;\n",
              "\n",
              "          const docLinkHtml = 'Like what you see? Visit the ' +\n",
              "            '<a target=\"_blank\" href=https://colab.research.google.com/notebooks/data_table.ipynb>data table notebook</a>'\n",
              "            + ' to learn more about interactive tables.';\n",
              "          element.innerHTML = '';\n",
              "          dataTable['output_type'] = 'display_data';\n",
              "          await google.colab.output.renderOutput(dataTable, element);\n",
              "          const docLink = document.createElement('div');\n",
              "          docLink.innerHTML = docLinkHtml;\n",
              "          element.appendChild(docLink);\n",
              "        }\n",
              "      </script>\n",
              "    </div>\n",
              "  </div>\n",
              "  "
            ],
            "text/plain": [
              "     1   2\n",
              "1  160  30\n",
              "2   65  51"
            ]
          },
          "metadata": {},
          "execution_count": 19
        }
      ]
    },
    {
      "cell_type": "code",
      "metadata": {
        "id": "r4JfcoxeKFmC",
        "colab": {
          "base_uri": "https://localhost:8080/"
        },
        "outputId": "43ae9c61-2380-4e89-9c45-81779563c55f"
      },
      "source": [
        "accuracies = evaluate_model(confusion_matrix)\n",
        "print(f'Total Accuracy {accuracies[0]:.0%}')\n",
        "for idx, accuracy in enumerate(accuracies[1:]):\n",
        "  print(f'Accuracy Class {idx+1} {accuracy:.0%}')"
      ],
      "execution_count": 20,
      "outputs": [
        {
          "output_type": "stream",
          "name": "stdout",
          "text": [
            "Total Accuracy 69%\n",
            "Accuracy Class 1 71%\n",
            "Accuracy Class 2 63%\n"
          ]
        }
      ]
    },
    {
      "cell_type": "markdown",
      "metadata": {
        "id": "lXtac5R3_i3V"
      },
      "source": [
        "# User Modeling Dataset \n",
        "4 classes with 5 features that are normally distributed "
      ]
    },
    {
      "cell_type": "code",
      "metadata": {
        "id": "ZV5uB2Vh_i3X",
        "colab": {
          "base_uri": "https://localhost:8080/",
          "height": 206
        },
        "outputId": "33582f59-10c4-41c7-b48e-7b6b19eb15c8"
      },
      "source": [
        "dataset = pd.read_csv('/content/drive/MyDrive/Colab Notebooks/Pattern Recognition/Dataset/Data_User_Modeling_Dataset.txt', sep='\t', header=None)\n",
        "dataset.columns = ['Feature 1', 'Feature 2', 'Feature 3', 'Feature 4', 'Feature 5', 'Class']\n",
        "dataset.head()"
      ],
      "execution_count": 21,
      "outputs": [
        {
          "output_type": "execute_result",
          "data": {
            "text/html": [
              "\n",
              "  <div id=\"df-e9c407ef-708c-4f85-af9d-cc90fd8ee767\">\n",
              "    <div class=\"colab-df-container\">\n",
              "      <div>\n",
              "<style scoped>\n",
              "    .dataframe tbody tr th:only-of-type {\n",
              "        vertical-align: middle;\n",
              "    }\n",
              "\n",
              "    .dataframe tbody tr th {\n",
              "        vertical-align: top;\n",
              "    }\n",
              "\n",
              "    .dataframe thead th {\n",
              "        text-align: right;\n",
              "    }\n",
              "</style>\n",
              "<table border=\"1\" class=\"dataframe\">\n",
              "  <thead>\n",
              "    <tr style=\"text-align: right;\">\n",
              "      <th></th>\n",
              "      <th>Feature 1</th>\n",
              "      <th>Feature 2</th>\n",
              "      <th>Feature 3</th>\n",
              "      <th>Feature 4</th>\n",
              "      <th>Feature 5</th>\n",
              "      <th>Class</th>\n",
              "    </tr>\n",
              "  </thead>\n",
              "  <tbody>\n",
              "    <tr>\n",
              "      <th>0</th>\n",
              "      <td>0.08</td>\n",
              "      <td>0.08</td>\n",
              "      <td>0.10</td>\n",
              "      <td>0.24</td>\n",
              "      <td>0.90</td>\n",
              "      <td>1</td>\n",
              "    </tr>\n",
              "    <tr>\n",
              "      <th>1</th>\n",
              "      <td>0.06</td>\n",
              "      <td>0.06</td>\n",
              "      <td>0.05</td>\n",
              "      <td>0.25</td>\n",
              "      <td>0.33</td>\n",
              "      <td>2</td>\n",
              "    </tr>\n",
              "    <tr>\n",
              "      <th>2</th>\n",
              "      <td>0.10</td>\n",
              "      <td>0.10</td>\n",
              "      <td>0.15</td>\n",
              "      <td>0.65</td>\n",
              "      <td>0.30</td>\n",
              "      <td>3</td>\n",
              "    </tr>\n",
              "    <tr>\n",
              "      <th>3</th>\n",
              "      <td>0.08</td>\n",
              "      <td>0.08</td>\n",
              "      <td>0.08</td>\n",
              "      <td>0.98</td>\n",
              "      <td>0.24</td>\n",
              "      <td>2</td>\n",
              "    </tr>\n",
              "    <tr>\n",
              "      <th>4</th>\n",
              "      <td>0.09</td>\n",
              "      <td>0.15</td>\n",
              "      <td>0.40</td>\n",
              "      <td>0.10</td>\n",
              "      <td>0.66</td>\n",
              "      <td>3</td>\n",
              "    </tr>\n",
              "  </tbody>\n",
              "</table>\n",
              "</div>\n",
              "      <button class=\"colab-df-convert\" onclick=\"convertToInteractive('df-e9c407ef-708c-4f85-af9d-cc90fd8ee767')\"\n",
              "              title=\"Convert this dataframe to an interactive table.\"\n",
              "              style=\"display:none;\">\n",
              "        \n",
              "  <svg xmlns=\"http://www.w3.org/2000/svg\" height=\"24px\"viewBox=\"0 0 24 24\"\n",
              "       width=\"24px\">\n",
              "    <path d=\"M0 0h24v24H0V0z\" fill=\"none\"/>\n",
              "    <path d=\"M18.56 5.44l.94 2.06.94-2.06 2.06-.94-2.06-.94-.94-2.06-.94 2.06-2.06.94zm-11 1L8.5 8.5l.94-2.06 2.06-.94-2.06-.94L8.5 2.5l-.94 2.06-2.06.94zm10 10l.94 2.06.94-2.06 2.06-.94-2.06-.94-.94-2.06-.94 2.06-2.06.94z\"/><path d=\"M17.41 7.96l-1.37-1.37c-.4-.4-.92-.59-1.43-.59-.52 0-1.04.2-1.43.59L10.3 9.45l-7.72 7.72c-.78.78-.78 2.05 0 2.83L4 21.41c.39.39.9.59 1.41.59.51 0 1.02-.2 1.41-.59l7.78-7.78 2.81-2.81c.8-.78.8-2.07 0-2.86zM5.41 20L4 18.59l7.72-7.72 1.47 1.35L5.41 20z\"/>\n",
              "  </svg>\n",
              "      </button>\n",
              "      \n",
              "  <style>\n",
              "    .colab-df-container {\n",
              "      display:flex;\n",
              "      flex-wrap:wrap;\n",
              "      gap: 12px;\n",
              "    }\n",
              "\n",
              "    .colab-df-convert {\n",
              "      background-color: #E8F0FE;\n",
              "      border: none;\n",
              "      border-radius: 50%;\n",
              "      cursor: pointer;\n",
              "      display: none;\n",
              "      fill: #1967D2;\n",
              "      height: 32px;\n",
              "      padding: 0 0 0 0;\n",
              "      width: 32px;\n",
              "    }\n",
              "\n",
              "    .colab-df-convert:hover {\n",
              "      background-color: #E2EBFA;\n",
              "      box-shadow: 0px 1px 2px rgba(60, 64, 67, 0.3), 0px 1px 3px 1px rgba(60, 64, 67, 0.15);\n",
              "      fill: #174EA6;\n",
              "    }\n",
              "\n",
              "    [theme=dark] .colab-df-convert {\n",
              "      background-color: #3B4455;\n",
              "      fill: #D2E3FC;\n",
              "    }\n",
              "\n",
              "    [theme=dark] .colab-df-convert:hover {\n",
              "      background-color: #434B5C;\n",
              "      box-shadow: 0px 1px 3px 1px rgba(0, 0, 0, 0.15);\n",
              "      filter: drop-shadow(0px 1px 2px rgba(0, 0, 0, 0.3));\n",
              "      fill: #FFFFFF;\n",
              "    }\n",
              "  </style>\n",
              "\n",
              "      <script>\n",
              "        const buttonEl =\n",
              "          document.querySelector('#df-e9c407ef-708c-4f85-af9d-cc90fd8ee767 button.colab-df-convert');\n",
              "        buttonEl.style.display =\n",
              "          google.colab.kernel.accessAllowed ? 'block' : 'none';\n",
              "\n",
              "        async function convertToInteractive(key) {\n",
              "          const element = document.querySelector('#df-e9c407ef-708c-4f85-af9d-cc90fd8ee767');\n",
              "          const dataTable =\n",
              "            await google.colab.kernel.invokeFunction('convertToInteractive',\n",
              "                                                     [key], {});\n",
              "          if (!dataTable) return;\n",
              "\n",
              "          const docLinkHtml = 'Like what you see? Visit the ' +\n",
              "            '<a target=\"_blank\" href=https://colab.research.google.com/notebooks/data_table.ipynb>data table notebook</a>'\n",
              "            + ' to learn more about interactive tables.';\n",
              "          element.innerHTML = '';\n",
              "          dataTable['output_type'] = 'display_data';\n",
              "          await google.colab.output.renderOutput(dataTable, element);\n",
              "          const docLink = document.createElement('div');\n",
              "          docLink.innerHTML = docLinkHtml;\n",
              "          element.appendChild(docLink);\n",
              "        }\n",
              "      </script>\n",
              "    </div>\n",
              "  </div>\n",
              "  "
            ],
            "text/plain": [
              "   Feature 1  Feature 2  Feature 3  Feature 4  Feature 5  Class\n",
              "0       0.08       0.08       0.10       0.24       0.90      1\n",
              "1       0.06       0.06       0.05       0.25       0.33      2\n",
              "2       0.10       0.10       0.15       0.65       0.30      3\n",
              "3       0.08       0.08       0.08       0.98       0.24      2\n",
              "4       0.09       0.15       0.40       0.10       0.66      3"
            ]
          },
          "metadata": {},
          "execution_count": 21
        }
      ]
    },
    {
      "cell_type": "code",
      "source": [
        "dataset['Class'].unique()"
      ],
      "metadata": {
        "id": "3QGWHvj-zADp",
        "colab": {
          "base_uri": "https://localhost:8080/"
        },
        "outputId": "0f112acd-3a57-427f-8653-b431ddbb0159"
      },
      "execution_count": 22,
      "outputs": [
        {
          "output_type": "execute_result",
          "data": {
            "text/plain": [
              "array([1, 2, 3, 4])"
            ]
          },
          "metadata": {},
          "execution_count": 22
        }
      ]
    },
    {
      "cell_type": "markdown",
      "metadata": {
        "id": "XdFkNgHc_i3Z"
      },
      "source": [
        "## Train & Classification\n",
        "All data is used to train model"
      ]
    },
    {
      "cell_type": "code",
      "source": [
        "params = train_model(dataset)"
      ],
      "metadata": {
        "id": "Wxn_unXAzhhg"
      },
      "execution_count": 23,
      "outputs": []
    },
    {
      "cell_type": "code",
      "metadata": {
        "id": "GD1c7hDx_i3a"
      },
      "source": [
        "feature_columns = dataset.columns[dataset.columns != 'Class']\n",
        "samples = dataset.loc[:, feature_columns]\n",
        "predicted_labels = classify(samples, params)"
      ],
      "execution_count": 24,
      "outputs": []
    },
    {
      "cell_type": "markdown",
      "metadata": {
        "id": "20od4qE9_i3b"
      },
      "source": [
        "## Confustion Matrix"
      ]
    },
    {
      "cell_type": "code",
      "metadata": {
        "id": "s271HLGD_i3c",
        "colab": {
          "base_uri": "https://localhost:8080/",
          "height": 194
        },
        "outputId": "386b40c6-3c89-4ba2-fbd8-1634d1bfe15b"
      },
      "source": [
        "confusion_matrix = get_confusion_matrix(dataset['Class'], predicted_labels)\n",
        "print('Rows is predicted labels and Columns is true labels')\n",
        "confusion_matrix"
      ],
      "execution_count": 25,
      "outputs": [
        {
          "output_type": "stream",
          "name": "stdout",
          "text": [
            "Rows is predicted labels and Columns is true labels\n"
          ]
        },
        {
          "output_type": "execute_result",
          "data": {
            "text/html": [
              "\n",
              "  <div id=\"df-78adfc44-c2a4-4289-bae8-b4f7ed8d9d87\">\n",
              "    <div class=\"colab-df-container\">\n",
              "      <div>\n",
              "<style scoped>\n",
              "    .dataframe tbody tr th:only-of-type {\n",
              "        vertical-align: middle;\n",
              "    }\n",
              "\n",
              "    .dataframe tbody tr th {\n",
              "        vertical-align: top;\n",
              "    }\n",
              "\n",
              "    .dataframe thead th {\n",
              "        text-align: right;\n",
              "    }\n",
              "</style>\n",
              "<table border=\"1\" class=\"dataframe\">\n",
              "  <thead>\n",
              "    <tr style=\"text-align: right;\">\n",
              "      <th></th>\n",
              "      <th>1</th>\n",
              "      <th>2</th>\n",
              "      <th>3</th>\n",
              "      <th>4</th>\n",
              "    </tr>\n",
              "  </thead>\n",
              "  <tbody>\n",
              "    <tr>\n",
              "      <th>1</th>\n",
              "      <td>62</td>\n",
              "      <td>0</td>\n",
              "      <td>1</td>\n",
              "      <td>0</td>\n",
              "    </tr>\n",
              "    <tr>\n",
              "      <th>2</th>\n",
              "      <td>0</td>\n",
              "      <td>81</td>\n",
              "      <td>4</td>\n",
              "      <td>2</td>\n",
              "    </tr>\n",
              "    <tr>\n",
              "      <th>3</th>\n",
              "      <td>1</td>\n",
              "      <td>0</td>\n",
              "      <td>83</td>\n",
              "      <td>0</td>\n",
              "    </tr>\n",
              "    <tr>\n",
              "      <th>4</th>\n",
              "      <td>0</td>\n",
              "      <td>2</td>\n",
              "      <td>0</td>\n",
              "      <td>21</td>\n",
              "    </tr>\n",
              "  </tbody>\n",
              "</table>\n",
              "</div>\n",
              "      <button class=\"colab-df-convert\" onclick=\"convertToInteractive('df-78adfc44-c2a4-4289-bae8-b4f7ed8d9d87')\"\n",
              "              title=\"Convert this dataframe to an interactive table.\"\n",
              "              style=\"display:none;\">\n",
              "        \n",
              "  <svg xmlns=\"http://www.w3.org/2000/svg\" height=\"24px\"viewBox=\"0 0 24 24\"\n",
              "       width=\"24px\">\n",
              "    <path d=\"M0 0h24v24H0V0z\" fill=\"none\"/>\n",
              "    <path d=\"M18.56 5.44l.94 2.06.94-2.06 2.06-.94-2.06-.94-.94-2.06-.94 2.06-2.06.94zm-11 1L8.5 8.5l.94-2.06 2.06-.94-2.06-.94L8.5 2.5l-.94 2.06-2.06.94zm10 10l.94 2.06.94-2.06 2.06-.94-2.06-.94-.94-2.06-.94 2.06-2.06.94z\"/><path d=\"M17.41 7.96l-1.37-1.37c-.4-.4-.92-.59-1.43-.59-.52 0-1.04.2-1.43.59L10.3 9.45l-7.72 7.72c-.78.78-.78 2.05 0 2.83L4 21.41c.39.39.9.59 1.41.59.51 0 1.02-.2 1.41-.59l7.78-7.78 2.81-2.81c.8-.78.8-2.07 0-2.86zM5.41 20L4 18.59l7.72-7.72 1.47 1.35L5.41 20z\"/>\n",
              "  </svg>\n",
              "      </button>\n",
              "      \n",
              "  <style>\n",
              "    .colab-df-container {\n",
              "      display:flex;\n",
              "      flex-wrap:wrap;\n",
              "      gap: 12px;\n",
              "    }\n",
              "\n",
              "    .colab-df-convert {\n",
              "      background-color: #E8F0FE;\n",
              "      border: none;\n",
              "      border-radius: 50%;\n",
              "      cursor: pointer;\n",
              "      display: none;\n",
              "      fill: #1967D2;\n",
              "      height: 32px;\n",
              "      padding: 0 0 0 0;\n",
              "      width: 32px;\n",
              "    }\n",
              "\n",
              "    .colab-df-convert:hover {\n",
              "      background-color: #E2EBFA;\n",
              "      box-shadow: 0px 1px 2px rgba(60, 64, 67, 0.3), 0px 1px 3px 1px rgba(60, 64, 67, 0.15);\n",
              "      fill: #174EA6;\n",
              "    }\n",
              "\n",
              "    [theme=dark] .colab-df-convert {\n",
              "      background-color: #3B4455;\n",
              "      fill: #D2E3FC;\n",
              "    }\n",
              "\n",
              "    [theme=dark] .colab-df-convert:hover {\n",
              "      background-color: #434B5C;\n",
              "      box-shadow: 0px 1px 3px 1px rgba(0, 0, 0, 0.15);\n",
              "      filter: drop-shadow(0px 1px 2px rgba(0, 0, 0, 0.3));\n",
              "      fill: #FFFFFF;\n",
              "    }\n",
              "  </style>\n",
              "\n",
              "      <script>\n",
              "        const buttonEl =\n",
              "          document.querySelector('#df-78adfc44-c2a4-4289-bae8-b4f7ed8d9d87 button.colab-df-convert');\n",
              "        buttonEl.style.display =\n",
              "          google.colab.kernel.accessAllowed ? 'block' : 'none';\n",
              "\n",
              "        async function convertToInteractive(key) {\n",
              "          const element = document.querySelector('#df-78adfc44-c2a4-4289-bae8-b4f7ed8d9d87');\n",
              "          const dataTable =\n",
              "            await google.colab.kernel.invokeFunction('convertToInteractive',\n",
              "                                                     [key], {});\n",
              "          if (!dataTable) return;\n",
              "\n",
              "          const docLinkHtml = 'Like what you see? Visit the ' +\n",
              "            '<a target=\"_blank\" href=https://colab.research.google.com/notebooks/data_table.ipynb>data table notebook</a>'\n",
              "            + ' to learn more about interactive tables.';\n",
              "          element.innerHTML = '';\n",
              "          dataTable['output_type'] = 'display_data';\n",
              "          await google.colab.output.renderOutput(dataTable, element);\n",
              "          const docLink = document.createElement('div');\n",
              "          docLink.innerHTML = docLinkHtml;\n",
              "          element.appendChild(docLink);\n",
              "        }\n",
              "      </script>\n",
              "    </div>\n",
              "  </div>\n",
              "  "
            ],
            "text/plain": [
              "    1   2   3   4\n",
              "1  62   0   1   0\n",
              "2   0  81   4   2\n",
              "3   1   0  83   0\n",
              "4   0   2   0  21"
            ]
          },
          "metadata": {},
          "execution_count": 25
        }
      ]
    },
    {
      "cell_type": "code",
      "metadata": {
        "id": "uj0bVA4h_i3d",
        "colab": {
          "base_uri": "https://localhost:8080/"
        },
        "outputId": "367ce846-a976-4bd1-8abd-8ec9f12bb6dd"
      },
      "source": [
        "accuracies = evaluate_model(confusion_matrix)\n",
        "print(f'Total Accuracy {accuracies[0]:.0%}')\n",
        "for idx, accuracy in enumerate(accuracies[1:]):\n",
        "  print(f'Accuracy Class {idx+1} {accuracy:.0%}')"
      ],
      "execution_count": 26,
      "outputs": [
        {
          "output_type": "stream",
          "name": "stdout",
          "text": [
            "Total Accuracy 96%\n",
            "Accuracy Class 1 98%\n",
            "Accuracy Class 2 98%\n",
            "Accuracy Class 3 94%\n",
            "Accuracy Class 4 91%\n"
          ]
        }
      ]
    }
  ]
}